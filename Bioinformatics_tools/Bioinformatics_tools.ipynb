{
 "cells": [
  {
   "cell_type": "markdown",
   "id": "a75d58f0-298f-4fba-8be9-220163dc2999",
   "metadata": {},
   "source": [
    "## ** ** ##"
   ]
  },
  {
   "cell_type": "code",
   "execution_count": 16,
   "id": "6300cc71-f044-4e1d-ad88-68d979185992",
   "metadata": {
    "tags": []
   },
   "outputs": [
    {
     "name": "stdout",
     "output_type": "stream",
     "text": [
      "7\n"
     ]
    }
   ],
   "source": [
    "from __future__ import print_function\n",
    "\n",
    "\n",
    "def hamming(s, t):\n",
    "    \"\"\"\n",
    "    Returns hamming distance for 2 given DNA sequences\n",
    "    \"\"\"\n",
    "    ham = 0\n",
    "    for character in range(len(s)):\n",
    "        if s[character] != t[character]:\n",
    "            ham += 1\n",
    "    return ham\n",
    "\n",
    "\n",
    "# Test\n",
    "print(hamming(\"GAGCCTACTAACGGGAT\", \"CATCGTAATGACGGCCT\"))"
   ]
  },
  {
   "cell_type": "code",
   "execution_count": 33,
   "id": "8f37b895-72c3-40cd-8db1-39739ad204dc",
   "metadata": {
    "tags": []
   },
   "outputs": [
    {
     "ename": "FileNotFoundError",
     "evalue": "[Errno 2] No such file or directory: 'rosalind_smgb.txt'",
     "output_type": "error",
     "traceback": [
      "\u001b[0;31m---------------------------------------------------------------------------\u001b[0m",
      "\u001b[0;31mFileNotFoundError\u001b[0m                         Traceback (most recent call last)",
      "Cell \u001b[0;32mIn[33], line 78\u001b[0m\n\u001b[1;32m     72\u001b[0m \t\u001b[38;5;28;01mreturn\u001b[39;00m dna_list\n\u001b[1;32m     75\u001b[0m \u001b[38;5;66;03m############\u001b[39;00m\n\u001b[1;32m     76\u001b[0m \u001b[38;5;66;03m# GO HERE! #\u001b[39;00m\n\u001b[1;32m     77\u001b[0m \u001b[38;5;66;03m############\u001b[39;00m\n\u001b[0;32m---> 78\u001b[0m \u001b[38;5;28;01mwith\u001b[39;00m \u001b[38;5;28;43mopen\u001b[39;49m\u001b[43m(\u001b[49m\u001b[38;5;124;43m\"\u001b[39;49m\u001b[38;5;124;43mrosalind_smgb.txt\u001b[39;49m\u001b[38;5;124;43m\"\u001b[39;49m\u001b[43m)\u001b[49m \u001b[38;5;28;01mas\u001b[39;00m file:\n\u001b[1;32m     79\u001b[0m \tdna_list \u001b[38;5;241m=\u001b[39m parse_FASTA(file)\n\u001b[1;32m     81\u001b[0m a, b \u001b[38;5;241m=\u001b[39m [x\u001b[38;5;241m.\u001b[39mcontent \u001b[38;5;28;01mfor\u001b[39;00m x \u001b[38;5;129;01min\u001b[39;00m dna_list]\n",
      "File \u001b[0;32m~/miniconda3/envs/ipy/lib/python3.11/site-packages/IPython/core/interactiveshell.py:284\u001b[0m, in \u001b[0;36m_modified_open\u001b[0;34m(file, *args, **kwargs)\u001b[0m\n\u001b[1;32m    277\u001b[0m \u001b[38;5;28;01mif\u001b[39;00m file \u001b[38;5;129;01min\u001b[39;00m {\u001b[38;5;241m0\u001b[39m, \u001b[38;5;241m1\u001b[39m, \u001b[38;5;241m2\u001b[39m}:\n\u001b[1;32m    278\u001b[0m     \u001b[38;5;28;01mraise\u001b[39;00m \u001b[38;5;167;01mValueError\u001b[39;00m(\n\u001b[1;32m    279\u001b[0m         \u001b[38;5;124mf\u001b[39m\u001b[38;5;124m\"\u001b[39m\u001b[38;5;124mIPython won\u001b[39m\u001b[38;5;124m'\u001b[39m\u001b[38;5;124mt let you open fd=\u001b[39m\u001b[38;5;132;01m{\u001b[39;00mfile\u001b[38;5;132;01m}\u001b[39;00m\u001b[38;5;124m by default \u001b[39m\u001b[38;5;124m\"\u001b[39m\n\u001b[1;32m    280\u001b[0m         \u001b[38;5;124m\"\u001b[39m\u001b[38;5;124mas it is likely to crash IPython. If you know what you are doing, \u001b[39m\u001b[38;5;124m\"\u001b[39m\n\u001b[1;32m    281\u001b[0m         \u001b[38;5;124m\"\u001b[39m\u001b[38;5;124myou can use builtins\u001b[39m\u001b[38;5;124m'\u001b[39m\u001b[38;5;124m open.\u001b[39m\u001b[38;5;124m\"\u001b[39m\n\u001b[1;32m    282\u001b[0m     )\n\u001b[0;32m--> 284\u001b[0m \u001b[38;5;28;01mreturn\u001b[39;00m \u001b[43mio_open\u001b[49m\u001b[43m(\u001b[49m\u001b[43mfile\u001b[49m\u001b[43m,\u001b[49m\u001b[43m \u001b[49m\u001b[38;5;241;43m*\u001b[39;49m\u001b[43margs\u001b[49m\u001b[43m,\u001b[49m\u001b[43m \u001b[49m\u001b[38;5;241;43m*\u001b[39;49m\u001b[38;5;241;43m*\u001b[39;49m\u001b[43mkwargs\u001b[49m\u001b[43m)\u001b[49m\n",
      "\u001b[0;31mFileNotFoundError\u001b[0m: [Errno 2] No such file or directory: 'rosalind_smgb.txt'"
     ]
    }
   ],
   "source": [
    "import string\n",
    "import sys\n",
    "\n",
    "\n",
    "VALID_CHARS = set([c for c in string.ascii_letters] + [c for c in string.digits])\n",
    "\n",
    "\n",
    "class DNA():\n",
    "def __init__(self, name='', info='', content=None):\n",
    "    self.name = name\n",
    "    self.info = info\n",
    "    self.content = content\n",
    "\n",
    "def __repr__(self):\n",
    "    return \"name: {}\\ninfo: {}\\ncontent: {}\".format(self.name, self.info, self.content)\n",
    "\n",
    "\n",
    "def add_new_DNA(dna_list, line):\n",
    "assert line[0] == '>'\n",
    "first_space_idx = line.find(' ')\n",
    "if first_space_idx != -1:\n",
    "    dna_name = line[1:first_space_idx]\n",
    "    dna_info = line[first_space_idx:].strip()\n",
    "else:\n",
    "    dna_name = line[1:]\n",
    "    dna_info = ''\n",
    "dna_list.append(DNA(name=dna_name, info=dna_info, content=[]))\n",
    "\n",
    "\n",
    "def add_line_to_DNA(cur_DNA, line):\n",
    "for x in line:\n",
    "    if x in VALID_CHARS:\n",
    "        cur_DNA.content.append(x)\n",
    "    elif x == ' ':\n",
    "        continue\n",
    "    else:\n",
    "        raise Exception()\n",
    "\n",
    "\n",
    "def parse_FASTA(file):\n",
    "\"\"\"\n",
    "Basic state machine for parsing.\n",
    "0 = Expecting '>' or empty line.\n",
    "1 = Expecting valid string for current DNA or empty line.\n",
    "2 = Got at least one string for current DNA. Ready for new DNA\n",
    "or continue current DNA.\n",
    "\"\"\"\n",
    "state = 0\n",
    "dna_list = []\n",
    "for line in file:\n",
    "    line = line.strip()\n",
    "    if state == 0:\n",
    "        if line[0] == '>':\n",
    "            add_new_DNA(dna_list, line)\n",
    "            state = 1\n",
    "        elif line == '':\n",
    "            continue\n",
    "        else:\n",
    "            raise Exception()\n",
    "    elif state == 1:\n",
    "        add_line_to_DNA(dna_list[-1], line)\n",
    "        state = 2\n",
    "    elif state == 2:\n",
    "        if line[0] == '>':\n",
    "            add_new_DNA(dna_list, line)\n",
    "            state = 1\n",
    "        else:\n",
    "            add_line_to_DNA(dna_list[-1], line)\n",
    "    else:\n",
    "        raise Exception()\n",
    "file.seek(0)\n",
    "return dna_list\n",
    "\n",
    "\n",
    "############\n",
    "# GO HERE! #\n",
    "############\n",
    "with open(\"rosalind_smgb.txt\") as file:\n",
    "dna_list = parse_FASTA(file)\n",
    "\n",
    "a, b = [x.content for x in dna_list]\n",
    "\n",
    "mode = 'max'\n",
    "func = {'max': max, 'min': min}[mode]\n",
    "sign = {'max': -1, 'min': 1}[mode]  # When maximizing, negative is for punishment\n",
    "comp_op = {'max': lambda x, y: x > y, 'min': lambda x, y: x < y}[mode] \n",
    "\n",
    "gamma = sign * 1  # Gap penalty.\n",
    "match_cost = -sign * 1\n",
    "substitution_cost = sign * 1\n",
    "\n",
    "D = [[None for _ in range(len(a)+1)] for _ in range(len(b)+1)]\n",
    "for i in range(len(b)+1):\n",
    "D[i][0] = 0\n",
    "for j in range(len(a)+1):\n",
    "D[0][j] = 0\n",
    "\n",
    "for i in range(1, len(b)+1):\n",
    "for j in range(1, len(a)+1):\n",
    "    match_val = match_cost if a[j-1] == b[i-1] else substitution_cost\n",
    "    a_gamma = gamma if i < len(b) else 0\n",
    "    b_gamma = gamma if j < len(a) else 0\n",
    "    D[i][j] = func(D[i-1][j-1]+match_val, D[i-1][j]+b_gamma, D[i][j-1]+a_gamma)\n",
    "\n",
    "print(D[-1][-1])\n",
    "\n",
    "a_alig = []\n",
    "b_alig = []\n",
    "cur_i, cur_j = len(b), len(a)\n",
    "while cur_i > 0 or cur_j > 0:\n",
    "match_val = match_cost if a[cur_j-1] == b[cur_i-1] else substitution_cost\n",
    "a_gamma = gamma if cur_i not in [0, len(b)] else 0  # In forward pass, this is handled by\n",
    "b_gamma = gamma if cur_j not in [0, len(a)] else 0  # initialization. Here, check both.\n",
    "if (cur_i > 0 and cur_j > 0) and D[cur_i][cur_j] == D[cur_i-1][cur_j-1] + match_val:\n",
    "    a_alig.append(a[cur_j-1])\n",
    "    b_alig.append(b[cur_i-1])\n",
    "    cur_i -= 1\n",
    "    cur_j -= 1\n",
    "elif cur_i > 0 and D[cur_i][cur_j] == D[cur_i-1][cur_j] + b_gamma:\n",
    "    a_alig.append('-')\n",
    "    b_alig.append(b[cur_i-1])\n",
    "    cur_i -= 1\n",
    "elif cur_j > 0 and D[cur_i][cur_j] == D[cur_i][cur_j-1] + a_gamma:\n",
    "    a_alig.append(a[cur_j-1])\n",
    "    b_alig.append('-')\n",
    "    cur_j -= 1\n",
    "else:\n",
    "    raise Exception()\n",
    "\n",
    "print(''.join(a_alig[::-1]))\n",
    "print(''.join(b_alig[::-1]))"
   ]
  },
  {
   "cell_type": "code",
   "execution_count": 10,
   "id": "9497c5d8-7b90-4343-b957-d41e0d5c7d2c",
   "metadata": {},
   "outputs": [
    {
     "name": "stdout",
     "output_type": "stream",
     "text": [
      "1\n"
     ]
    }
   ],
   "source": [
    "from Bio import SeqIO\n",
    "\n",
    "def phre(data):\n",
    "    count = 0\n",
    "    threshold = 33\n",
    "    for record in SeqIO.parse(f, \"fastq\"):\n",
    "        quality = record.letter_annotations[\"phred_quality\"]\n",
    "        # print(quality)\n",
    "        average_quality = sum(quality)/len(quality)\n",
    "        # print(average_quality)\n",
    "        if average_quality < threshold:\n",
    "            count += 1\n",
    "    print(count)\n",
    "    # return count\n",
    "\n",
    "\n",
    "with open(\"phre.fastq\", \"r\") as f:\n",
    "    phre(f)"
   ]
  },
  {
   "cell_type": "code",
   "execution_count": null,
   "id": "4ff56e5d-1fda-40b7-a3e3-719e3f3ff6e7",
   "metadata": {},
   "outputs": [],
   "source": []
  },
  {
   "cell_type": "code",
   "execution_count": 2,
   "id": "2cf66eb8-d834-4a80-a0e8-c6e668658116",
   "metadata": {
    "tags": []
   },
   "outputs": [
    {
     "name": "stdout",
     "output_type": "stream",
     "text": [
      "0\n",
      "1\n",
      "2\n",
      "3\n",
      "4\n",
      "5\n",
      "6\n"
     ]
    }
   ],
   "source": [
    "DNA=[ATCGATC]\n",
    "for i in range(len(DNA)):\n",
    "    print(i)"
   ]
  },
  {
   "cell_type": "raw",
   "id": "afcbcee2-78b2-4ec5-adca-a4ccc7b8dd1e",
   "metadata": {},
   "source": []
  }
 ],
 "metadata": {
  "kernelspec": {
   "display_name": "IPy-3.11",
   "language": "python",
   "name": "ipy"
  },
  "language_info": {
   "codemirror_mode": {
    "name": "ipython",
    "version": 3
   },
   "file_extension": ".py",
   "mimetype": "text/x-python",
   "name": "python",
   "nbconvert_exporter": "python",
   "pygments_lexer": "ipython3",
   "version": "3.11.3"
  }
 },
 "nbformat": 4,
 "nbformat_minor": 5
}
