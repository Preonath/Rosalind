{
 "cells": [
  {
   "cell_type": "code",
   "execution_count": 38,
   "id": "e6ec7aec-a3bb-439f-b1b5-2faff9313365",
   "metadata": {
    "tags": []
   },
   "outputs": [
    {
     "data": {
      "text/plain": [
       "'GACTCCTTTGTTTGCCTTAAATAGATACATAT'"
      ]
     },
     "execution_count": 38,
     "metadata": {},
     "output_type": "execute_result"
    }
   ],
   "source": [
    "from Bio import SeqIO\n",
    "\n",
    "def find_inexact_repeat(string,max_errors,repeat_length):\n",
    "    for i in range(len(string)-repeat_length+1):\n",
    "        sub_string = string[i:i+repeat_length]\n",
    "        # print(sub_string)\n",
    "        errors = sum(a!=b for a,b in zip(sub_string,string[i:i+repeat_length]))\n",
    "        # print(errors)\n",
    "        if(errors<=max_errors):\n",
    "            return(sub_string)\n",
    "    return None\n",
    "\n",
    "\n",
    "\n",
    "repeat_length = 32\n",
    "max_errors = 3\n",
    "\n",
    "\n",
    "\n",
    "\n",
    "fasta_file = SeqIO.parse(\"rosalind_subo.txt\", 'fasta')\n",
    "sequences = list(fasta_file)\n",
    "\n",
    "# Accessing the sequence of the first SeqRecord object in the list (index 0)\n",
    "s = str(sequences[0].seq)\n",
    "t = str(sequences[1].seq)\n",
    "find_inexact_repeat(s,max_errors,repeat_length)\n"
   ]
  },
  {
   "cell_type": "code",
   "execution_count": 41,
   "id": "8f37b895-72c3-40cd-8db1-39739ad204dc",
   "metadata": {
    "tags": []
   },
   "outputs": [
    {
     "name": "stdout",
     "output_type": "stream",
     "text": [
      "GCATTAGTGAACTTAAATTTTAGTATCAGAGG\n",
      "1 0\n"
     ]
    }
   ],
   "source": [
    "from Bio import SeqIO\n",
    "\n",
    "def find_inexact_repeat(dna_string, repeat_length_min=32, repeat_length_max=40, max_errors=3):\n",
    "    # Function to find the inexact repeat within a DNA string\n",
    "    for repeat_length in range(repeat_length_min, repeat_length_max + 1):\n",
    "        for i in range(len(dna_string) - repeat_length + 1):\n",
    "            repeat = dna_string[i:i+repeat_length]\n",
    "            print( repeat )\n",
    "            errors = sum(a != b for a, b in zip(repeat, dna_string[i:i+repeat_length]))\n",
    "            if errors <= max_errors:\n",
    "                return repeat\n",
    "    return None\n",
    "\n",
    "def count_occurrences(dna_string, r, max_errors=3):\n",
    "    # Function to count the occurrences of the inexact repeat within a DNA string\n",
    "    occurrences = 0\n",
    "    for i in range(len(dna_string) - len(r) + 1): \n",
    "        repeat = dna_string[i:i+len(r)]\n",
    "        errors = sum(a != b for a, b in zip(repeat, r))\n",
    "        if errors <= max_errors:\n",
    "            occurrences += 1\n",
    "    return occurrences\n",
    "\n",
    "if __name__ == \"__main__\":\n",
    "    # Read the input FASTA file\n",
    "    # fasta_file = \"/path/to/your/fasta/file.fasta\"  # Replace with the actual path to your input FASTA file\n",
    "    sequences = list(SeqIO.parse('rosalind_subo.txt', 'fasta'))\n",
    "\n",
    "    # Get the DNA strings from the FASTA file\n",
    "    s = str(sequences[0].seq)\n",
    "    t = str(sequences[1].seq)\n",
    "\n",
    "    # Find the inexact repeat (r) in both strings\n",
    "    r = find_inexact_repeat(s)\n",
    "    if not r:\n",
    "        raise ValueError(\"Inexact repeat not found in the input DNA strings.\")\n",
    "\n",
    "    # Count occurrences of the inexact repeat in both strings\n",
    "    occurrences_s = count_occurrences(s, r)\n",
    "    occurrences_t = count_occurrences(t, r)\n",
    "\n",
    "    # Output the results\n",
    "    print(f\"{occurrences_s} {occurrences_t}\")\n"
   ]
  },
  {
   "cell_type": "code",
   "execution_count": null,
   "id": "9497c5d8-7b90-4343-b957-d41e0d5c7d2c",
   "metadata": {},
   "outputs": [],
   "source": []
  }
 ],
 "metadata": {
  "kernelspec": {
   "display_name": "IPy-3.11",
   "language": "python",
   "name": "ipy"
  },
  "language_info": {
   "codemirror_mode": {
    "name": "ipython",
    "version": 3
   },
   "file_extension": ".py",
   "mimetype": "text/x-python",
   "name": "python",
   "nbconvert_exporter": "python",
   "pygments_lexer": "ipython3",
   "version": "3.11.3"
  }
 },
 "nbformat": 4,
 "nbformat_minor": 5
}
