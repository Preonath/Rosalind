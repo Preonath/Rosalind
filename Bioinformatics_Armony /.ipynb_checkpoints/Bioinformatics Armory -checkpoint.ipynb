{
 "cells": [
  {
   "cell_type": "markdown",
   "id": "6ac8d5b8-81b6-486d-b8cb-f0e247c99d76",
   "metadata": {},
   "source": [
    "## Introduction to the Bioinformatics Armory"
   ]
  },
  {
   "cell_type": "code",
   "execution_count": 10,
   "id": "a737faef-218b-4391-8c9f-7eecf57a0814",
   "metadata": {},
   "outputs": [
    {
     "name": "stdout",
     "output_type": "stream",
     "text": [
      "20 12 17 21\n"
     ]
    }
   ],
   "source": [
    "grep -o . rosalind_ini.txt | sort | uniq -c  | tr -s ' ' | cut -d ' ' -f2 | paste -sd ' '"
   ]
  },
  {
   "cell_type": "code",
   "execution_count": 6,
   "id": "c71c3cf0-9ceb-4506-bd50-4f4401e4af9e",
   "metadata": {},
   "outputs": [
    {
     "name": "stdout",
     "output_type": "stream",
     "text": [
      "AGCTTTTCATTCTGACTGCAACGGGCAATATGTCTCTGTGTGGATTAAAAAAAGAGTGTCTGATAGCAGC\n",
      "\n",
      "20 12 17 21\n"
     ]
    }
   ],
   "source": [
    "from Bio.Seq import Seq\n",
    "dna = open('rosalind_ini.txt', 'r').read()\n",
    "\n",
    "print(dna)\n",
    "\n",
    "print(dna.count('A'), dna.count('C'), dna.count('G'), dna.count('T'))"
   ]
  },
  {
   "cell_type": "markdown",
   "id": "f47af053-c4c4-4d58-8d18-290055ac5be2",
   "metadata": {},
   "source": [
    "## GenBank Introduction "
   ]
  },
  {
   "cell_type": "markdown",
   "id": "8242725b-0bcb-4c6b-a6eb-5110849d1184",
   "metadata": {},
   "source": [
    "## Data Formats"
   ]
  },
  {
   "cell_type": "code",
   "execution_count": 8,
   "id": "803775d9-4da7-40cf-8556-ea2869b98626",
   "metadata": {},
   "outputs": [
    {
     "name": "stdout",
     "output_type": "stream",
     "text": [
      "['FJ817486', 'JX069768', 'JX469983\\n']\n"
     ]
    }
   ],
   "source": [
    "from Bio import Entrez\n",
    "from Bio import SeqIO\n",
    "\n",
    "ids = open('frmt.txt','r').read().split(' ')\n",
    "print(ids)"
   ]
  },
  {
   "cell_type": "code",
   "execution_count": 10,
   "id": "92a0b480-4620-4cbf-8fc5-64533b88f4fb",
   "metadata": {},
   "outputs": [
    {
     "name": "stdout",
     "output_type": "stream",
     "text": [
      "{'FJ817486.1': SeqRecord(seq=Seq('CGCGTATTTCGTTTGAGCCAATACCAAGTAGACAGAACCAACAAATTCGACACC...AAA'), id='FJ817486.1', name='FJ817486.1', description='FJ817486.1 Malus hybrid cultivar flavanone 3-hydroxylase protein (F3H) mRNA, complete cds', dbxrefs=[]), 'JX069768.1': SeqRecord(seq=Seq('ATGGCGGAGGAGAAGCAGAAGCTCAATGGCGGAGTTGTTGACCGCTCGTTGGTG...TGA'), id='JX069768.1', name='JX069768.1', description='JX069768.1 Momordica charantia carotenoid cleavage dioxygenase 1 (CCD1) mRNA, complete cds', dbxrefs=[]), 'JX469983.1': SeqRecord(seq=Seq('ATGATGTATCATGCGAAGAATTTTTCTGTGCCCTTTGCTCCGCAGAGGGCACAG...TCA'), id='JX469983.1', name='JX469983.1', description='JX469983.1 Zea mays subsp. mays clone UT3343 G2-like transcription factor mRNA, partial cds', dbxrefs=[])}\n"
     ]
    }
   ],
   "source": [
    "handle = Entrez.efetch(db=\"nucleotide\", id=ids, rettype=\"fasta\")\n",
    "records = SeqIO.to_dict(SeqIO.parse(handle, \"fasta\"))\n",
    "print(records)\n",
    "handle.close()"
   ]
  },
  {
   "cell_type": "code",
   "execution_count": null,
   "id": "34dcbe04-6cf9-4b54-a7fc-08ae66703066",
   "metadata": {},
   "outputs": [],
   "source": [
    "\n",
    "\n",
    "d = dict()\n",
    "for key, record in records.items():\n",
    "    d[record.id] = len(record.seq) \n",
    "shortestrec=min(d, key=d.get)\n",
    "\n",
    "print '>'+records[shortestrec].description\n",
    "print records[shortestrec].seq"
   ]
  },
  {
   "cell_type": "code",
   "execution_count": null,
   "id": "83b710d1-b2d8-4ac0-b36b-7add15a03239",
   "metadata": {},
   "outputs": [],
   "source": []
  },
  {
   "cell_type": "code",
   "execution_count": null,
   "id": "f40bc807-f700-4532-b60b-d1884c044197",
   "metadata": {},
   "outputs": [],
   "source": []
  },
  {
   "cell_type": "code",
   "execution_count": null,
   "id": "beee30bb-acc6-4fd6-92c3-eaed8eb375ff",
   "metadata": {},
   "outputs": [],
   "source": []
  }
 ],
 "metadata": {
  "kernelspec": {
   "display_name": "Deep_Py",
   "language": "python",
   "name": "ipy_deep"
  },
  "language_info": {
   "codemirror_mode": {
    "name": "ipython",
    "version": 3
   },
   "file_extension": ".py",
   "mimetype": "text/x-python",
   "name": "python",
   "nbconvert_exporter": "python",
   "pygments_lexer": "ipython3",
   "version": "3.9.7"
  }
 },
 "nbformat": 4,
 "nbformat_minor": 5
}
