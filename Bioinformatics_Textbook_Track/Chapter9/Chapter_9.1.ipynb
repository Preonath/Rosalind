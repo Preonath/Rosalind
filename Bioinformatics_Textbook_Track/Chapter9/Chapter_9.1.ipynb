{
 "cells": [
  {
   "cell_type": "markdown",
   "metadata": {},
   "source": [
    "## ***TASK 9A: Construct a Trie from a Collection of Patterns***"
   ]
  },
  {
   "cell_type": "code",
   "execution_count": 2,
   "metadata": {},
   "outputs": [
    {
     "name": "stdout",
     "output_type": "stream",
     "text": [
      "Collecting trie\n",
      "  Downloading trie-1.4.0-py3-none-any.whl (25 kB)\n",
      "Collecting rlp<2,>=1\n",
      "  Downloading rlp-1.2.0-py2.py3-none-any.whl (19 kB)\n",
      "Collecting eth-hash<1.0.0,>=0.1.0\n",
      "  Downloading eth_hash-0.3.1-py3-none-any.whl (8.9 kB)\n",
      "Collecting eth-utils<2.0.0,>=1.3.0\n",
      "  Downloading eth_utils-1.10.0-py3-none-any.whl (24 kB)\n",
      "Requirement already satisfied: cytoolz<1.0.0,>=0.10.1; implementation_name == \"cpython\" in /home/preonath/anaconda3/lib/python3.7/site-packages (from eth-utils<2.0.0,>=1.3.0->trie) (0.10.1)\n",
      "Collecting eth-typing<3.0.0,>=2.2.1\n",
      "  Downloading eth_typing-2.2.2-py3-none-any.whl (6.2 kB)\n",
      "Requirement already satisfied: toolz>=0.8.0 in /home/preonath/anaconda3/lib/python3.7/site-packages (from cytoolz<1.0.0,>=0.10.1; implementation_name == \"cpython\"->eth-utils<2.0.0,>=1.3.0->trie) (0.10.0)\n",
      "Installing collected packages: eth-hash, eth-typing, eth-utils, rlp, trie\n",
      "Successfully installed eth-hash-0.3.1 eth-typing-2.2.2 eth-utils-1.10.0 rlp-1.2.0 trie-1.4.0\n"
     ]
    }
   ],
   "source": [
    "!pip install trie"
   ]
  },
  {
   "cell_type": "code",
   "execution_count": 6,
   "metadata": {},
   "outputs": [],
   "source": [
    "#!/usr/bin/env python\n",
    "'''A Bioinformatics Algorithms script containing a trie data structure.'''\n",
    "\n",
    "\n",
    "class Trie(object):\n",
    "    \"\"\"Constucts a trie for the given words.\"\"\"\n",
    "    def __init__(self, words):\n",
    "        \"\"\"Initialize the nodes and edges and add the given words.\"\"\"\n",
    "\n",
    "        # A lambda function to create nodes.\n",
    "        # 'parent' = parent node number\n",
    "        # 'children' = list of children node numbers.\n",
    "        # 'depth' = length of substring up to the node.\n",
    "        # 'end' = boolean to determine if the node corresponds to the last character of an inserted word.\n",
    "        self.create_node = lambda p, d: {'parent':p, 'children':[], 'depth':d, 'end':False}\n",
    "\n",
    "        # Initialize nodes and edges.\n",
    "        self.nodes = {1:self.create_node(0,0)}\n",
    "        self.edges = {}\n",
    "\n",
    "        # Construct the trie by adding the words.\n",
    "        if type(words) is str:\n",
    "            self._add_word(words)\n",
    "        else:\n",
    "            for word in words:\n",
    "                self._add_word(word)\n",
    "\n",
    "    def _add_word(self, current_word):\n",
    "        \"\"\"Adds a word to the trie.\"\"\"\n",
    "\n",
    "        # Get the insertion node and portion of the word to insert.\n",
    "        insertion_node, insertion_substring = self._insert_location(current_word)\n",
    "\n",
    "        # Begin inserting at the insertion node.\n",
    "        for i in range(len(insertion_substring)):\n",
    "\n",
    "            # Get the new node number.\n",
    "            new_node = len(self.nodes) + 1\n",
    "\n",
    "            # Add the new node to the trie, and add parent/depth/child information.\n",
    "            self.nodes[new_node] = self.create_node(insertion_node, self.nodes[insertion_node]['depth']+1)\n",
    "            self.nodes[insertion_node]['children'].append(new_node)\n",
    "\n",
    "            # Add the new edge to the trie.\n",
    "            self.edges[insertion_node, new_node] = insertion_substring[i]\n",
    "\n",
    "            # Move to the new node and continue insertion.\n",
    "            insertion_node = new_node\n",
    "\n",
    "        # Mark the last node as an end node, as it is the end of the word added.\n",
    "        self.nodes[insertion_node]['end'] = True\n",
    "\n",
    "    def _insert_location(self, word_to_add, current_node=1):\n",
    "        \"\"\"Traverses the trie to determine the insertion point of the given word.\"\"\"\n",
    "\n",
    "        # This happends if the word we're trying to add is already a substring of an added word.\n",
    "        if word_to_add == '':\n",
    "            return current_node, word_to_add\n",
    "\n",
    "        # Search all child nodes for a match.\n",
    "        for child_node in self.nodes[current_node]['children']:\n",
    "            if self.edges[current_node, child_node] == word_to_add[0]:\n",
    "                # Move to the child node if we have a match.\n",
    "                return self._insert_location(word_to_add[1:], child_node)\n",
    "\n",
    "        # If we reach this point, there is no character match.\n",
    "        return current_node, word_to_add\n",
    "\n",
    "    def word_up_to_node(self, node_num):\n",
    "        \"\"\"Returns the word associated with a traversal up to the given node.\"\"\"\n",
    "\n",
    "        node_word = ''\n",
    "        while self.nodes[node_num]['parent'] != 0:\n",
    "            node_word += self.edges[self.nodes[node_num]['parent'], node_num]\n",
    "            node_num = self.nodes[node_num]['parent']\n",
    "\n",
    "        # We travelled backwards, so reverse the word.\n",
    "        return node_word[::-1]\n",
    "\n",
    "    def prefix_in_trie(self, word_to_check, current_node=1):\n",
    "        \"\"\"Traverses the trie to determine if a prefix of the given word matches a pattern in the trie.\"\"\"\n",
    "\n",
    "        if self.nodes[current_node]['end'] is True:\n",
    "            # If we hit an end node then we've found a matching pattern as a prefix.\n",
    "            return True\n",
    "        elif word_to_check == '':\n",
    "            # If we've exhausted the word_to_check then no prefix of it matches an entire pattern in the trie.\n",
    "            return False\n",
    "\n",
    "        # Search all child nodes for a match.\n",
    "        for child_node in self.nodes[current_node]['children']:\n",
    "            if self.edges[current_node, child_node] == word_to_check[0]:\n",
    "                # Move to the child node if we have a match.\n",
    "                return self.prefix_in_trie(word_to_check[1:], child_node)\n",
    "\n",
    "        # If we reach this point, there is no character match, and hence no prefix matching a pattern in the trie.\n",
    "        return False"
   ]
  },
  {
   "cell_type": "code",
   "execution_count": 7,
   "metadata": {},
   "outputs": [
    {
     "ename": "AttributeError",
     "evalue": "'Trie' object has no attribute 'edges'",
     "output_type": "error",
     "traceback": [
      "\u001b[0;31m---------------------------------------------------------------------------\u001b[0m",
      "\u001b[0;31mAttributeError\u001b[0m                            Traceback (most recent call last)",
      "\u001b[0;32m<ipython-input-7-38a6e8e27fb4>\u001b[0m in \u001b[0;36m<module>\u001b[0;34m\u001b[0m\n\u001b[1;32m     16\u001b[0m \u001b[0mwords\u001b[0m \u001b[0;34m=\u001b[0m \u001b[0;34m[\u001b[0m\u001b[0mi\u001b[0m\u001b[0;34m.\u001b[0m\u001b[0mstrip\u001b[0m\u001b[0;34m(\u001b[0m\u001b[0;34m)\u001b[0m \u001b[0;32mfor\u001b[0m \u001b[0mi\u001b[0m \u001b[0;32min\u001b[0m \u001b[0mf\u001b[0m\u001b[0;34m.\u001b[0m\u001b[0mreadlines\u001b[0m\u001b[0;34m(\u001b[0m\u001b[0;34m)\u001b[0m\u001b[0;34m]\u001b[0m\u001b[0;34m\u001b[0m\u001b[0;34m\u001b[0m\u001b[0m\n\u001b[1;32m     17\u001b[0m     \u001b[0;31m# Get the adjacency list.\u001b[0m\u001b[0;34m\u001b[0m\u001b[0;34m\u001b[0m\u001b[0;34m\u001b[0m\u001b[0m\n\u001b[0;32m---> 18\u001b[0;31m \u001b[0madjacency_list\u001b[0m \u001b[0;34m=\u001b[0m \u001b[0mtrie_edges\u001b[0m\u001b[0;34m(\u001b[0m\u001b[0mwords\u001b[0m\u001b[0;34m)\u001b[0m\u001b[0;34m\u001b[0m\u001b[0;34m\u001b[0m\u001b[0m\n\u001b[0m\u001b[1;32m     19\u001b[0m \u001b[0;32mfor\u001b[0m \u001b[0mi\u001b[0m \u001b[0;32min\u001b[0m \u001b[0madjacency_list\u001b[0m\u001b[0;34m:\u001b[0m\u001b[0;34m\u001b[0m\u001b[0;34m\u001b[0m\u001b[0m\n\u001b[1;32m     20\u001b[0m     \u001b[0mprint\u001b[0m\u001b[0;34m(\u001b[0m\u001b[0mi\u001b[0m\u001b[0;34m)\u001b[0m\u001b[0;34m\u001b[0m\u001b[0;34m\u001b[0m\u001b[0m\n",
      "\u001b[0;32m<ipython-input-7-38a6e8e27fb4>\u001b[0m in \u001b[0;36mtrie_edges\u001b[0;34m(words)\u001b[0m\n\u001b[1;32m      9\u001b[0m \u001b[0;34m\u001b[0m\u001b[0m\n\u001b[1;32m     10\u001b[0m     \u001b[0;31m# Return all edges converted to adjacency form.\u001b[0m\u001b[0;34m\u001b[0m\u001b[0;34m\u001b[0m\u001b[0;34m\u001b[0m\u001b[0m\n\u001b[0;32m---> 11\u001b[0;31m     \u001b[0mprint\u001b[0m\u001b[0;34m(\u001b[0m\u001b[0mt\u001b[0m\u001b[0;34m.\u001b[0m\u001b[0medges\u001b[0m\u001b[0;34m.\u001b[0m\u001b[0mitems\u001b[0m\u001b[0;34m(\u001b[0m\u001b[0;34m)\u001b[0m\u001b[0;34m)\u001b[0m\u001b[0;34m\u001b[0m\u001b[0;34m\u001b[0m\u001b[0m\n\u001b[0m\u001b[1;32m     12\u001b[0m     \u001b[0;32mreturn\u001b[0m \u001b[0mmap\u001b[0m\u001b[0;34m(\u001b[0m\u001b[0madjacency_format\u001b[0m\u001b[0;34m,\u001b[0m \u001b[0mt\u001b[0m\u001b[0;34m.\u001b[0m\u001b[0medges\u001b[0m\u001b[0;34m.\u001b[0m\u001b[0mitems\u001b[0m\u001b[0;34m(\u001b[0m\u001b[0;34m)\u001b[0m\u001b[0;34m)\u001b[0m\u001b[0;34m\u001b[0m\u001b[0;34m\u001b[0m\u001b[0m\n\u001b[1;32m     13\u001b[0m \u001b[0;34m\u001b[0m\u001b[0m\n",
      "\u001b[0;31mAttributeError\u001b[0m: 'Trie' object has no attribute 'edges'"
     ]
    }
   ],
   "source": [
    "from trie import Trie\n",
    "\n",
    "def trie_edges(words):\n",
    "    # Construct the trie.\n",
    "    t = Trie(words)\n",
    "    # Convert trie edges to adjacency form, as edges are currently dictionary items.\n",
    "\n",
    "    adjacency_format = lambda item: '->'.join(map(str,item[0]))+\":\"+item[1]\n",
    "\n",
    "    # Return all edges converted to adjacency form.\n",
    "    print(t.edges.items())\n",
    "    return map(adjacency_format, t.edges.items())\n",
    "\n",
    "\n",
    "f=open('R9A.txt')\n",
    "words = [i.strip() for i in f.readlines()]\n",
    "    # Get the adjacency list.\n",
    "adjacency_list = trie_edges(words)\n",
    "for i in adjacency_list:\n",
    "    print(i)"
   ]
  },
  {
   "cell_type": "code",
   "execution_count": null,
   "metadata": {},
   "outputs": [],
   "source": []
  }
 ],
 "metadata": {
  "kernelspec": {
   "display_name": "Python 3 (ipykernel)",
   "language": "python",
   "name": "python3"
  },
  "language_info": {
   "codemirror_mode": {
    "name": "ipython",
    "version": 3
   },
   "file_extension": ".py",
   "mimetype": "text/x-python",
   "name": "python",
   "nbconvert_exporter": "python",
   "pygments_lexer": "ipython3",
   "version": "3.8.12"
  }
 },
 "nbformat": 4,
 "nbformat_minor": 4
}
