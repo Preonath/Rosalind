{
 "cells": [
  {
   "cell_type": "code",
   "execution_count": 4,
   "id": "145d4426-3da2-4e84-bb58-9086174a1c6a",
   "metadata": {
    "tags": []
   },
   "outputs": [
    {
     "name": "stdout",
     "output_type": "stream",
     "text": [
      "-3 1\n",
      "4 2\n",
      "1 3\n",
      "5 4\n",
      "-2 5\n",
      "[[4, 1, 5], [1, 5, 5], [], [-2], []]\n"
     ]
    }
   ],
   "source": [
    "main_list = [-3, 4, 1, 5, -2]\n",
    "perm_list = [1, 2, 3, 4, 5]\n",
    "modified_list = []\n",
    "for i,j in zip(main_list,perm_list):\n",
    "    print(i,j)\n",
    "    if abs(i) != j:\n",
    "        modified_list.append(main_list[j:i]+main_list[j+1:-1])\n",
    "print(modified_list)"
   ]
  },
  {
   "cell_type": "code",
   "execution_count": 38,
   "id": "9ade5e09-36f9-4a05-b455-0af7b6ae0ce9",
   "metadata": {
    "tags": []
   },
   "outputs": [
    {
     "name": "stdout",
     "output_type": "stream",
     "text": [
      "[-1, 2, 3, -4, -5, 5, -2]\n"
     ]
    }
   ],
   "source": [
    "main_list = [-3, 4, 1, 5, -2]\n",
    "perm_list = [1, 2, 3, 4, 5]\n",
    "modified_list = []\n",
    "\n",
    "for i in perm_list:\n",
    "    for j in main_list:\n",
    "        if i == abs(j):\n",
    "            modified_list.append(j * -1)\n",
    "\n",
    "modified_list.extend([i, j])\n",
    "\n",
    "print(modified_list)\n"
   ]
  },
  {
   "cell_type": "code",
   "execution_count": 66,
   "id": "97dd033c-e43c-447e-aa28-aad26ed57612",
   "metadata": {
    "tags": []
   },
   "outputs": [
    {
     "ename": "SyntaxError",
     "evalue": "positional argument follows keyword argument (2413854865.py, line 6)",
     "output_type": "error",
     "traceback": [
      "\u001b[0;36m  Cell \u001b[0;32mIn[66], line 6\u001b[0;36m\u001b[0m\n\u001b[0;31m    for i in range(i=m, len(perm_list)):\u001b[0m\n\u001b[0m                                      ^\u001b[0m\n\u001b[0;31mSyntaxError\u001b[0m\u001b[0;31m:\u001b[0m positional argument follows keyword argument\n"
     ]
    }
   ],
   "source": [
    "main_list = [-3, 4, 1, 5, -2]\n",
    "perm_list = [1, 2, 3, 4, 5]\n",
    "modified_list = []\n",
    "m = 0\n",
    "\n",
    "for i in range(i=m, len(perm_list)):\n",
    "    # print(\"1st i value\",i)\n",
    "    if m >= len(main_list):\n",
    "        break\n",
    "\n",
    "    if abs(main_list[i]) == perm_list[m]:\n",
    "        reversed_values = [-x for x in main_list[i + m::-1]]\n",
    "        modified_list.extend(reversed_values)\n",
    "        modified_list.extend(main_list[i + m + 1:])\n",
    "        \n",
    "        print(\"modified\",modified_list)\n",
    "        \n",
    "        if modified_list[m] < 0:\n",
    "            modified_list[m] = abs(modified_list[m])\n",
    "\n",
    "        \n",
    "        main_list.clear()\n",
    "        main_list.extend(modified_list)\n",
    "        m += 1\n",
    "        if (len(modified_list) and len(main_list) == len(perm_list)):\n",
    "            print(\"main\",main_list)\n",
    "        "
   ]
  },
  {
   "cell_type": "code",
   "execution_count": 86,
   "id": "967f0737-35d4-40b9-9a78-f22ad32c55cd",
   "metadata": {
    "tags": []
   },
   "outputs": [
    {
     "name": "stdout",
     "output_type": "stream",
     "text": [
      "modified [-1, -4, 3, 5, -2]\n",
      "main [1, -4, 3, 5, -2]\n",
      "modified [1, -4, 3, 5, -2, 2, -5, -3, 4, -1]\n"
     ]
    }
   ],
   "source": [
    "main_list = [-3, 4, 1, 5, -2]\n",
    "perm_list = [1, 2, 3, 4, 5]\n",
    "modified_list = []\n",
    "m = 0\n",
    "\n",
    "\n",
    "for i in range(m, len(perm_list)):\n",
    "    if m >= len(main_list):\n",
    "        break\n",
    "\n",
    "    if abs(main_list[i]) == perm_list[m]:\n",
    "        reversed_values = [-x for x in main_list[i + m::-1]]\n",
    "        modified_list.extend(reversed_values)\n",
    "        modified_list.extend(main_list[i + m + 1:])\n",
    "        \n",
    "        print(\"modified\", modified_list)\n",
    "        \n",
    "        if modified_list[m] < 0:\n",
    "            modified_list[m] = abs(modified_list[m])\n",
    "        \n",
    "        main_list.clear()\n",
    "        main_list.extend(modified_list)\n",
    "        m += 1\n",
    "        \n",
    "        if len(modified_list) == len(main_list) == len(perm_list):\n",
    "            print(\"main\", main_list)\n",
    "        # i-=1\n",
    "        # modified_list = modified_list[0] + modified_list[-2:-(len(perm_list)-1)]\n",
    "        "
   ]
  },
  {
   "cell_type": "code",
   "execution_count": 89,
   "id": "2414db20-f6fd-4fe7-a86c-b4fe1a21b528",
   "metadata": {
    "tags": []
   },
   "outputs": [],
   "source": [
    "def _input(self):\n",
    "    data = sys.stdin.read().strip().split()\n",
    "    self.P = [int(data[0][1:])] + [int(e) for e in data[1:-1]] + [int(data[-1][:-1])]\n",
    "\n",
    "def greedySort(self, P):\n",
    "    dist = 0\n",
    "    reversalList = []\n",
    "    for k in range(len(P)):\n",
    "        if k+1 != abs(P[k]):\n",
    "            for i in range(k+1, len(P)):\n",
    "                if k+1 == abs(P[i]):\n",
    "                    t = i\n",
    "                    break\n",
    "            P = P[:k] + [-e for e in reversed(P[k:t+1])] + P[t+1:]\n",
    "            reversalList.append(copy.deepcopy(P))\n",
    "            dist += 1\n",
    "        if k+1 == -P[k]:\n",
    "            P[k] = -P[k]\n",
    "            reversalList.append(copy.deepcopy(P))\n",
    "            dist += 1\n",
    "    return dist, reversalList     \n",
    "\n",
    "def printList(self, reversalList):\n",
    "    for p in reversalList:\n",
    "        print('('+' '.join(['+'+str(e) if e>0 else str(e) for e in p])+')')"
   ]
  },
  {
   "cell_type": "code",
   "execution_count": 92,
   "id": "e5cdb9fc-ed2f-4a9d-8c7e-b3151b98d2db",
   "metadata": {
    "tags": []
   },
   "outputs": [
    {
     "name": "stdout",
     "output_type": "stream",
     "text": [
      "[-4, 3, 1, 5, -2]\n",
      "[-1, 4, 3, 5, -2]\n",
      "[-5, 4, 1, 3, -2]\n",
      "[2, 4, 1, 5, 3]\n",
      "[-3, -1, -4, 5, -2]\n",
      "[-3, -5, 1, -4, -2]\n",
      "[-3, 2, 1, 5, -4]\n",
      "[-3, 4, -5, -1, -2]\n",
      "[-3, 4, 2, 5, -1]\n",
      "[-3, 4, 1, 2, -5]\n"
     ]
    }
   ],
   "source": [
    "def generate_sign_swapped_permutations(dataset):\n",
    "    n = len(dataset)\n",
    "    result = []\n",
    "    \n",
    "    for i in range(n - 1):\n",
    "        for j in range(i + 1, n):\n",
    "            permuted_dataset = dataset.copy()\n",
    "            permuted_dataset[i], permuted_dataset[j] = -permuted_dataset[j], -permuted_dataset[i]\n",
    "            result.append(permuted_dataset)\n",
    "    \n",
    "    return result\n",
    "\n",
    "sample_dataset = [-3, +4, +1, +5, -2]\n",
    "sign_swapped_permutations = generate_sign_swapped_permutations(sample_dataset)\n",
    "\n",
    "for perm in sign_swapped_permutations:\n",
    "    print(perm)\n"
   ]
  },
  {
   "cell_type": "code",
   "execution_count": null,
   "id": "8b2458a4-61c4-453b-a21e-0ff699aaf7ae",
   "metadata": {},
   "outputs": [],
   "source": []
  }
 ],
 "metadata": {
  "kernelspec": {
   "display_name": "IPy-3.11",
   "language": "python",
   "name": "ipy"
  },
  "language_info": {
   "codemirror_mode": {
    "name": "ipython",
    "version": 3
   },
   "file_extension": ".py",
   "mimetype": "text/x-python",
   "name": "python",
   "nbconvert_exporter": "python",
   "pygments_lexer": "ipython3",
   "version": "3.11.3"
  }
 },
 "nbformat": 4,
 "nbformat_minor": 5
}
