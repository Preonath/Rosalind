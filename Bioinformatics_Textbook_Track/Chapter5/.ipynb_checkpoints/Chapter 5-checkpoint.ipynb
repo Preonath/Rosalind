{
 "cells": [
  {
   "cell_type": "markdown",
   "id": "c903bbe0-a674-4a28-a077-b9067ff77c7b",
   "metadata": {},
   "source": [
    "## 5A Find the Minimum Number of Coins Needed to Make Change "
   ]
  },
  {
   "cell_type": "code",
   "execution_count": 42,
   "id": "8022fe23-d958-4afc-9f81-48e774d22b12",
   "metadata": {},
   "outputs": [
    {
     "name": "stdout",
     "output_type": "stream",
     "text": [
      "The total number of ways to get the desired change is 2\n"
     ]
    }
   ],
   "source": [
    "def change_problem(amount, values):\n",
    "        table = [0] + ([float(\"inf\")] * amount)\n",
    "        for value in values:\n",
    "                for index in range(value, len(table)):\n",
    "                                table[index] = min(table[index], table[index-value]+1)\n",
    "        return table[amount]\n",
    "f = open('rosalind_5a.txt','r')\n",
    "a = f.read()\n",
    "a = a.split('\\n')\n",
    "amount = int(a[0])\n",
    "values = [int(n) for n in a[1].split(',')]\n",
    "print('The total number of ways to get the desired change is', change_problem(amount, values))"
   ]
  },
  {
   "cell_type": "markdown",
   "id": "4780c39e-afdc-47b2-ae76-909d47807678",
   "metadata": {},
   "source": [
    "## Coin Change Problem"
   ]
  },
  {
   "cell_type": "code",
   "execution_count": 45,
   "id": "ee806564-a175-40f7-8bbb-026a20802db4",
   "metadata": {
    "tags": []
   },
   "outputs": [
    {
     "name": "stdout",
     "output_type": "stream",
     "text": [
      "The total number of ways to get the desired change is 41\n"
     ]
    }
   ],
   "source": [
    "def count(S, target):\n",
    "    n = len(S)\n",
    "    T = [[0] * (target + 1) for _ in range(n + 1)]\n",
    "    for i in range(n + 1):\n",
    "        T[i][0] = 1\n",
    "    # print(T)\n",
    "    for i in range(1, n + 1):\n",
    "        for j in range(1, target + 1):\n",
    "            if S[i - 1] > j:\n",
    "                T[i][j] = T[i - 1][j]\n",
    "            else:\n",
    "                T[i][j] = T[i - 1][j] + T[i][j - S[i - 1]]\n",
    "\n",
    "    return T[n][target]\n",
    "# S = [1,3,5]\n",
    "# target = 8\n",
    "f = open('rosalind_5a.txt','r')\n",
    "a = f.read()\n",
    "a = a.split('\\n')\n",
    "target = int(a[0])\n",
    "S = [int(n) for n in a[1].split(',')]\n",
    "print('The total number of ways to get the desired change is', count(S, target))"
   ]
  },
  {
   "cell_type": "markdown",
   "id": "9d63813b-bcb6-4fe7-8f25-5e8788b1824a",
   "metadata": {},
   "source": [
    "## 5B Find the Length of a Longest Path in a Manhattan-like Grid"
   ]
  },
  {
   "cell_type": "code",
   "execution_count": 3,
   "id": "654bea0a-b897-4489-86fa-b9950f5639d1",
   "metadata": {},
   "outputs": [
    {
     "name": "stdout",
     "output_type": "stream",
     "text": [
      "34\n"
     ]
    }
   ],
   "source": [
    "def LongestPath(n, m, down, right):\n",
    "    result = [[0] * (m+1) for i in range(n+1)]\n",
    "    for i in range(1,n+1):\n",
    "        result[i][0] = result[i-1][0] + down[i-1][0]\n",
    "    for j in range(1,m+1):\n",
    "        result[0][j] = result[0][j-1] + right[0][j-1]\n",
    "    for i in range(1,n+1):\n",
    "        for j in range(1,m+1):\n",
    "            result[i][j] = max(result[i-1][j] + down[i-1][j], result[i][j-1] + right[i][j-1])\n",
    "    return result[n][m]\n",
    "with open(\"rosalind_5b.txt\", \"r\") as f:\n",
    "    n, m = map(int, f.readline().strip().split())\n",
    "    down = [[int(i) for i in f.readline().strip().split()] for i in range(n)]\n",
    "    f.readline()\n",
    "    right = [[int(i) for i in f.readline().strip().split()] for i in range(n+1)]\n",
    "    print(LongestPath(n,m,down,right))"
   ]
  },
  {
   "cell_type": "code",
   "execution_count": 10,
   "id": "cc3f3d29-f615-46fb-9e67-75f3b061215b",
   "metadata": {},
   "outputs": [
    {
     "name": "stdout",
     "output_type": "stream",
     "text": [
      "PRIDEN\n"
     ]
    }
   ],
   "source": [
    "def lcs(str1, str2):\n",
    "    a = len(str1)\n",
    "    b = len(str2)\n",
    "    string_matrix = [[0 for i in range(b+1)] for i in range(a+1)]   \n",
    "    for i in range(1, a+1):\n",
    "        for j in range(1, b+1):\n",
    "            if i == 0 or j == 0:\n",
    "                string_matrix[i][j] = 0\n",
    "            elif str1[i-1] == str2[j-1]:\n",
    "                string_matrix[i][j] = 1 + string_matrix[i-1][j-1]\n",
    "            else:\n",
    "                string_matrix[i][j] = max(string_matrix[i-1][j], string_matrix[i][j-1])\n",
    "    index = string_matrix[a][b]\n",
    "    # index=6\n",
    "    res = [\"\"] * index\n",
    "    i = a\n",
    "    j = b\n",
    "    while i > 0 and j > 0:\n",
    "        if str1[i-1] == str2[j-1]:\n",
    "            res[index-1] = str1[i-1]\n",
    "            i -= 1\n",
    "            j -= 1\n",
    "            index -= 1\n",
    "        elif string_matrix[i-1][j] > string_matrix[i][j-1]:\n",
    "            i -= 1\n",
    "        else:\n",
    "            j -= 1\n",
    "    return res\n",
    "\n",
    "str1=\"PROVIDENCE\"\n",
    "str2=\"PRESIDENT\"\n",
    "print(\"\".join(lcs(str1,str2)))\n"
   ]
  },
  {
   "cell_type": "code",
   "execution_count": 2,
   "id": "ea0ff8f5-dc14-4f17-b2a3-63f631d41d5f",
   "metadata": {},
   "outputs": [
    {
     "name": "stdout",
     "output_type": "stream",
     "text": [
      "AACTTG\n"
     ]
    }
   ],
   "source": [
    "S, T = open('rosalind_ba5c.txt').read().splitlines()\n",
    "\n",
    "cur = [''] * (len(T) + 1) #dummy entries as per wiki\n",
    "# print(cur)\n",
    "for s in S:\n",
    "    last, cur = cur, [''] \n",
    "\n",
    "    for i, t in enumerate(T):\n",
    "        cur.append(last[i] + s if s==t else max(last[i+1], cur[-1], key=len))\n",
    "print(cur[-1])"
   ]
  },
  {
   "cell_type": "code",
   "execution_count": 7,
   "id": "3242549a-ce0f-4595-a21d-046052166e9a",
   "metadata": {},
   "outputs": [
    {
     "ename": "IndexError",
     "evalue": "string index out of range",
     "output_type": "error",
     "traceback": [
      "\u001b[0;31m---------------------------------------------------------------------------\u001b[0m",
      "\u001b[0;31mIndexError\u001b[0m                                Traceback (most recent call last)",
      "\u001b[0;32m/tmp/ipykernel_6738/963089956.py\u001b[0m in \u001b[0;36m<module>\u001b[0;34m\u001b[0m\n\u001b[1;32m     12\u001b[0m \u001b[0mstr1\u001b[0m\u001b[0;34m=\u001b[0m\u001b[0;34m\"PROVIDENCE\"\u001b[0m\u001b[0;34m\u001b[0m\u001b[0;34m\u001b[0m\u001b[0m\n\u001b[1;32m     13\u001b[0m \u001b[0mstr2\u001b[0m\u001b[0;34m=\u001b[0m\u001b[0;34m\"PRESIDENT\"\u001b[0m\u001b[0;34m\u001b[0m\u001b[0;34m\u001b[0m\u001b[0m\n\u001b[0;32m---> 14\u001b[0;31m \u001b[0mprint\u001b[0m\u001b[0;34m(\u001b[0m\u001b[0;34m\"\"\u001b[0m\u001b[0;34m.\u001b[0m\u001b[0mjoin\u001b[0m\u001b[0;34m(\u001b[0m\u001b[0mlcs\u001b[0m\u001b[0;34m(\u001b[0m\u001b[0mstr1\u001b[0m\u001b[0;34m,\u001b[0m\u001b[0mstr2\u001b[0m\u001b[0;34m)\u001b[0m\u001b[0;34m)\u001b[0m\u001b[0;34m)\u001b[0m\u001b[0;34m\u001b[0m\u001b[0;34m\u001b[0m\u001b[0m\n\u001b[0m",
      "\u001b[0;32m/tmp/ipykernel_6738/963089956.py\u001b[0m in \u001b[0;36mlcs\u001b[0;34m(str1, str2)\u001b[0m\n\u001b[1;32m      5\u001b[0m     \u001b[0;32mfor\u001b[0m \u001b[0mi\u001b[0m \u001b[0;32min\u001b[0m \u001b[0mrange\u001b[0m\u001b[0;34m(\u001b[0m\u001b[0;36m1\u001b[0m\u001b[0;34m,\u001b[0m \u001b[0ma\u001b[0m\u001b[0;34m+\u001b[0m\u001b[0;36m1\u001b[0m\u001b[0;34m)\u001b[0m\u001b[0;34m:\u001b[0m\u001b[0;34m\u001b[0m\u001b[0;34m\u001b[0m\u001b[0m\n\u001b[1;32m      6\u001b[0m         \u001b[0;32mfor\u001b[0m \u001b[0mj\u001b[0m \u001b[0;32min\u001b[0m \u001b[0mrange\u001b[0m\u001b[0;34m(\u001b[0m\u001b[0;36m1\u001b[0m\u001b[0;34m,\u001b[0m \u001b[0mb\u001b[0m\u001b[0;34m+\u001b[0m\u001b[0;36m1\u001b[0m\u001b[0;34m)\u001b[0m\u001b[0;34m:\u001b[0m\u001b[0;34m\u001b[0m\u001b[0;34m\u001b[0m\u001b[0m\n\u001b[0;32m----> 7\u001b[0;31m             \u001b[0;32mif\u001b[0m \u001b[0mstr1\u001b[0m\u001b[0;34m[\u001b[0m\u001b[0mi\u001b[0m\u001b[0;34m]\u001b[0m \u001b[0;34m==\u001b[0m \u001b[0mstr2\u001b[0m\u001b[0;34m[\u001b[0m\u001b[0mj\u001b[0m\u001b[0;34m]\u001b[0m\u001b[0;34m:\u001b[0m\u001b[0;34m\u001b[0m\u001b[0;34m\u001b[0m\u001b[0m\n\u001b[0m\u001b[1;32m      8\u001b[0m                 \u001b[0mstring_matrix\u001b[0m\u001b[0;34m[\u001b[0m\u001b[0mi\u001b[0m\u001b[0;34m]\u001b[0m\u001b[0;34m[\u001b[0m\u001b[0mj\u001b[0m\u001b[0;34m]\u001b[0m \u001b[0;34m=\u001b[0m \u001b[0;36m1\u001b[0m \u001b[0;34m+\u001b[0m \u001b[0mstring_matrix\u001b[0m\u001b[0;34m[\u001b[0m\u001b[0mi\u001b[0m\u001b[0;34m-\u001b[0m\u001b[0;36m1\u001b[0m\u001b[0;34m]\u001b[0m\u001b[0;34m[\u001b[0m\u001b[0mj\u001b[0m\u001b[0;34m-\u001b[0m\u001b[0;36m1\u001b[0m\u001b[0;34m]\u001b[0m\u001b[0;34m\u001b[0m\u001b[0;34m\u001b[0m\u001b[0m\n\u001b[1;32m      9\u001b[0m             \u001b[0;32melse\u001b[0m\u001b[0;34m:\u001b[0m\u001b[0;34m\u001b[0m\u001b[0;34m\u001b[0m\u001b[0m\n",
      "\u001b[0;31mIndexError\u001b[0m: string index out of range"
     ]
    }
   ],
   "source": [
    "def lcs(str1, str2):\n",
    "    a = len(str1)\n",
    "    b = len(str2)\n",
    "    string_matrix = [[0 for i in range(b+1)] for i in range(a+1)]   \n",
    "    for i in range(1, a+1):\n",
    "        for j in range(1, b+1):\n",
    "            if str1[i] == str2[j]:\n",
    "                string_matrix[i][j] = 1 + string_matrix[i-1][j-1]\n",
    "            else:\n",
    "                string_matrix[i][j] = max(string_matrix[i-1][j], string_matrix[i][j-1])\n",
    "    return string_matrix[a][b]\n",
    "str1=\"PROVIDENCE\"\n",
    "str2=\"PRESIDENT\"\n",
    "print(\"\".join(lcs(str1,str2)))"
   ]
  },
  {
   "cell_type": "code",
   "execution_count": 2,
   "id": "a9d75878-873c-4ab5-851b-826745989d5c",
   "metadata": {},
   "outputs": [
    {
     "name": "stdout",
     "output_type": "stream",
     "text": [
      "AACTTG\n"
     ]
    }
   ],
   "source": [
    "S, T = open('rosalind_ba5c.txt').read().splitlines()\n",
    "cur = [''] * (len(T) + 1) #dummy entries as per wiki\n",
    "for s in S:\n",
    "    last, cur = cur, [''] \n",
    "    for i, t in enumerate(T):\n",
    "        cur.append(last[i] + s if s==t else max(last[i+1], cur[-1], key=len))\n",
    "print(cur[-1])"
   ]
  }
 ],
 "metadata": {
  "kernelspec": {
   "display_name": "Deep_Py",
   "language": "python",
   "name": "ipy_deep"
  },
  "language_info": {
   "codemirror_mode": {
    "name": "ipython",
    "version": 3
   },
   "file_extension": ".py",
   "mimetype": "text/x-python",
   "name": "python",
   "nbconvert_exporter": "python",
   "pygments_lexer": "ipython3",
   "version": "3.9.7"
  }
 },
 "nbformat": 4,
 "nbformat_minor": 5
}
