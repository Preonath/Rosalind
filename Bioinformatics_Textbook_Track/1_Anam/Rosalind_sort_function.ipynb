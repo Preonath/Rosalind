{
 "cells": [
  {
   "cell_type": "code",
   "execution_count": 1,
   "id": "cad10c85-587c-4b20-ae25-0b1b2080c02c",
   "metadata": {},
   "outputs": [],
   "source": [
    "def allPossiblePattern(text,l):\n",
    "  if len(text)>=l:\n",
    "    patterns.append(text)\n",
    "    return \n",
    "  for i in range(0,4):\n",
    "    allPossiblePattern(text+mark[i],l)\n",
    "  return   "
   ]
  },
  {
   "cell_type": "code",
   "execution_count": null,
   "id": "f60a8627-4c50-4d25-b509-737e4abaf527",
   "metadata": {},
   "outputs": [],
   "source": []
  }
 ],
 "metadata": {
  "kernelspec": {
   "display_name": "Deep_Py",
   "language": "python",
   "name": "ipy_deep"
  },
  "language_info": {
   "codemirror_mode": {
    "name": "ipython",
    "version": 3
   },
   "file_extension": ".py",
   "mimetype": "text/x-python",
   "name": "python",
   "nbconvert_exporter": "python",
   "pygments_lexer": "ipython3",
   "version": "3.9.7"
  }
 },
 "nbformat": 4,
 "nbformat_minor": 5
}
