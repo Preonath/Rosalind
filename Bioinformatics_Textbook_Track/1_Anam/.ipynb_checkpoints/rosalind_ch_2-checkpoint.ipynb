{
 "cells": [
  {
   "cell_type": "markdown",
   "metadata": {
    "colab_type": "text",
    "id": "Fswmv_wPw1ew"
   },
   "source": [
    "### BA2A: Implement MotifEnumeration"
   ]
  },
  {
   "cell_type": "code",
   "execution_count": 2,
   "metadata": {},
   "outputs": [
    {
     "ename": "NameError",
     "evalue": "name 'k' is not defined",
     "output_type": "error",
     "traceback": [
      "\u001b[0;31m---------------------------------------------------------------------------\u001b[0m",
      "\u001b[0;31mNameError\u001b[0m                                 Traceback (most recent call last)",
      "\u001b[0;32m/tmp/ipykernel_57436/3898449168.py\u001b[0m in \u001b[0;36m<module>\u001b[0;34m\u001b[0m\n\u001b[1;32m      2\u001b[0m \u001b[0;34m\u001b[0m\u001b[0m\n\u001b[1;32m      3\u001b[0m \u001b[0mbases\u001b[0m \u001b[0;34m=\u001b[0m \u001b[0;34m[\u001b[0m\u001b[0;34m'A'\u001b[0m\u001b[0;34m,\u001b[0m\u001b[0;34m'C'\u001b[0m\u001b[0;34m,\u001b[0m\u001b[0;34m'G'\u001b[0m\u001b[0;34m,\u001b[0m\u001b[0;34m'T'\u001b[0m\u001b[0;34m]\u001b[0m\u001b[0;34m\u001b[0m\u001b[0;34m\u001b[0m\u001b[0m\n\u001b[0;32m----> 4\u001b[0;31m \u001b[0mklist\u001b[0m\u001b[0;34m=\u001b[0m\u001b[0mlist\u001b[0m\u001b[0;34m(\u001b[0m\u001b[0mitertools\u001b[0m\u001b[0;34m.\u001b[0m\u001b[0mproduct\u001b[0m\u001b[0;34m(\u001b[0m\u001b[0mbases\u001b[0m\u001b[0;34m,\u001b[0m \u001b[0mrepeat\u001b[0m\u001b[0;34m=\u001b[0m\u001b[0mk\u001b[0m\u001b[0;34m)\u001b[0m\u001b[0;34m)\u001b[0m\u001b[0;34m\u001b[0m\u001b[0;34m\u001b[0m\u001b[0m\n\u001b[0m\u001b[1;32m      5\u001b[0m \u001b[0mallkmer\u001b[0m\u001b[0;34m=\u001b[0m\u001b[0;34m[\u001b[0m\u001b[0;34m''\u001b[0m\u001b[0;34m.\u001b[0m\u001b[0mjoin\u001b[0m\u001b[0;34m(\u001b[0m\u001b[0mklist\u001b[0m\u001b[0;34m[\u001b[0m\u001b[0mx\u001b[0m\u001b[0;34m]\u001b[0m\u001b[0;34m)\u001b[0m \u001b[0;32mfor\u001b[0m \u001b[0mx\u001b[0m \u001b[0;32min\u001b[0m \u001b[0mrange\u001b[0m\u001b[0;34m(\u001b[0m\u001b[0mlen\u001b[0m\u001b[0;34m(\u001b[0m\u001b[0mklist\u001b[0m\u001b[0;34m)\u001b[0m\u001b[0;34m)\u001b[0m\u001b[0;34m]\u001b[0m\u001b[0;34m\u001b[0m\u001b[0;34m\u001b[0m\u001b[0m\n\u001b[1;32m      6\u001b[0m \u001b[0;34m\u001b[0m\u001b[0m\n",
      "\u001b[0;31mNameError\u001b[0m: name 'k' is not defined"
     ]
    }
   ],
   "source": [
    "import itertools\n",
    "\n",
    "bases = ['A','C','G','T']\n",
    "klist=list(itertools.product(bases, repeat=k))\n",
    "allkmer=[''.join(klist[x]) for x in range(len(klist))]\n",
    "\n",
    "for dna in dnas:\n",
    "\n",
    "    result = []\n",
    "    res=[]\n",
    "    for i in range(len(dna)-k+1):\n",
    "        result.append(dna[i:i+k])\n",
    "        result.sort()\n",
    "        [res.append(x) for x in result if x not in res]\n",
    "    pattern.append(res)\n",
    "\n",
    "for i in range(len(pattern)):\n",
    "    res=[]\n",
    "    result=[]\n",
    "    for m in pattern[i]:\n",
    "        for n in allkmer:\n",
    "            if hammingDistance(m,n)<=d:\n",
    "                res.append(n)\n",
    "    [result.append(x) for x in res if x not in result]            \n",
    "    pattern2.append(result)\n",
    "\n",
    "final = list(set.intersection(*map(set, pattern2)))\n",
    "final.sort()        \n",
    "for x in final:\n",
    "    print(x, end=' ')"
   ]
  },
  {
   "cell_type": "code",
   "execution_count": null,
   "metadata": {
    "colab": {},
    "colab_type": "code",
    "id": "0uKsd8tRw5EK"
   },
   "outputs": [],
   "source": [
    "mark={\n",
    "    0:'A',\n",
    "    1:'C',\n",
    "    2:'G',\n",
    "    3:'T'\n",
    "}\n",
    "patterns=[]\n",
    "def allPossiblePattern(text,l):\n",
    "  if len(text)>=l:\n",
    "    patterns.append(text)\n",
    "    return \n",
    "  for i in range(0,4):\n",
    "    allPossiblePattern(text+mark[i],l)\n",
    "  return   \n",
    "\n",
    "\n",
    "def hammingDistance(st1,st2):\n",
    "  dis=0;\n",
    "  for i in range(len(st1)):\n",
    "    if st1[i] is st2[i]:\n",
    "      continue\n",
    "    else:\n",
    "      dis+=1\n",
    "      \n",
    "  return dis\n",
    "\n",
    "def motifEnumeration(k,d,dna):\n",
    "  res=[]\n",
    "  allPossiblePattern('',k)\n",
    "  \n",
    "  for x in patterns:\n",
    "    exist=0\n",
    "    for eachDna in dna:\n",
    "      #exist=0\n",
    "      dis=len(eachDna)\n",
    "      temp=\"\"\n",
    "      for ch in eachDna:\n",
    "        temp+=ch\n",
    "        if len(temp)==k:\n",
    "          dis=min(hammingDistance(temp,x),dis)\n",
    "          temp=temp[1:]\n",
    "        if dis<=d:\n",
    "          exist+=1\n",
    "          #print(temp)\n",
    "          #print(dis)\n",
    "          break\n",
    "    if exist==len(dna):\n",
    "      #print(x)\n",
    "      #print('///')\n",
    "      res.append(x)\n",
    "  for x in res :\n",
    "    print(x,end=' ')\n",
    "  return   \n",
    "\n",
    "#motifEnumeration(5,2,['TCTGAGCTTGCGTTATTTTTAGACC','GTTTGACGGGAACCCGACGCCTATA','TTTTAGATTTCCTCAGTCCACTATA','CTTACAATTTCGTTATTTATCTAAT','CAGTAGGAATAGCCACTTTGTTGTA','AAATCCATTAAGGAAAGACGACCGT'])\n"
   ]
  },
  {
   "cell_type": "code",
   "execution_count": null,
   "metadata": {
    "colab": {
     "base_uri": "https://localhost:8080/",
     "height": 34
    },
    "colab_type": "code",
    "executionInfo": {
     "elapsed": 1416,
     "status": "ok",
     "timestamp": 1569942921730,
     "user": {
      "displayName": "anam ibna harun",
      "photoUrl": "https://lh3.googleusercontent.com/a-/AAuE7mC2ydy9modjNBFRLKCP-h8xZEY71hM61uXEzOh6yQ=s64",
      "userId": "00525343064882395956"
     },
     "user_tz": -360
    },
    "id": "S_9s5fGMtZgS",
    "outputId": "a70fcdfa-b220-4188-9849-8c6544c89383"
   },
   "outputs": [
    {
     "name": "stdout",
     "output_type": "stream",
     "text": [
      "ACCTA CCCTA GCCTA TCCTA "
     ]
    }
   ],
   "source": [
    "f=open(\"rosalind_ba2a.txt\",\"r\")\n",
    "arr=f.read().split('\\n')\n",
    "f.close()\n",
    "kd=arr[0].split(' ')\n",
    "k=int(kd[0])\n",
    "d=int(kd[1])\n",
    "#motifEnumeration(3,1,['ATTTGGC','TGCCTTA','CGGTATC','GAAAATT'])\n",
    "#print(arr[1:-1])\n",
    "motifEnumeration(k,d,arr[1:-1])\n",
    "\n"
   ]
  },
  {
   "cell_type": "markdown",
   "metadata": {
    "colab_type": "text",
    "id": "f5dJDeBP5Hcx"
   },
   "source": [
    "### BA2B: Find a Median String"
   ]
  },
  {
   "cell_type": "code",
   "execution_count": null,
   "metadata": {
    "colab": {
     "base_uri": "https://localhost:8080/",
     "height": 34
    },
    "colab_type": "code",
    "executionInfo": {
     "elapsed": 903,
     "status": "ok",
     "timestamp": 1569943580429,
     "user": {
      "displayName": "anam ibna harun",
      "photoUrl": "https://lh3.googleusercontent.com/a-/AAuE7mC2ydy9modjNBFRLKCP-h8xZEY71hM61uXEzOh6yQ=s64",
      "userId": "00525343064882395956"
     },
     "user_tz": -360
    },
    "id": "oI4Y6urC5N4a",
    "outputId": "0b766fa9-2657-4914-b281-c748372bcbf1"
   },
   "outputs": [
    {
     "data": {
      "text/plain": [
       "1"
      ]
     },
     "execution_count": 59,
     "metadata": {
      "tags": []
     },
     "output_type": "execute_result"
    }
   ],
   "source": [
    "patterns=[]  \n",
    "\n",
    "mark={\n",
    "    0:'A',\n",
    "    1:'T',\n",
    "    2:'G',\n",
    "    3:'C'\n",
    "}\n",
    "def allPossiblePattern(temp,l):\n",
    "  if(len(temp)==l):\n",
    "    patterns.append(temp)\n",
    "    return\n",
    "  else:\n",
    "    for i in range(0,4):\n",
    "      ch=mark[i]\n",
    "      #print(temp+ch)\n",
    "      allPossiblePattern(temp+ch,l)\n",
    "    temp=temp[::-1]\n",
    "    temp=temp[1:]\n",
    "    temp=temp[::-1]\n",
    "    return\n",
    "  \n",
    "  \n",
    "def hammingDistance(st1,st2):\n",
    "  dis=0\n",
    "  l=len(st1)\n",
    "  for i in range(0,l):\n",
    "    if st1[i] is not st2[i] :\n",
    "      dis+=1\n",
    "  return dis\n",
    "hammingDistance('AAC','AAB')\n",
    "\n",
    "\n"
   ]
  },
  {
   "cell_type": "code",
   "execution_count": null,
   "metadata": {
    "colab": {},
    "colab_type": "code",
    "id": "ng9xbRfm577q"
   },
   "outputs": [],
   "source": [
    "mstring=[]\n",
    "def FindMedianString(l,dnalist):\n",
    "  allPossiblePattern('',l)\n",
    "  res=1000000000\n",
    "  #mstring=[]\n",
    "  for p in patterns:\n",
    "    #for all patterns find the min d(Pattern,Text)\n",
    "    total_min_for_a_pattern=0\n",
    "    for x in dnalist:\n",
    "      #iterate the list of dna \n",
    "      substring=[]\n",
    "      temp=\"\"\n",
    "      for c in x:\n",
    "        #find the substring for each string\n",
    "        temp+=c\n",
    "        if(len(temp)==l):\n",
    "          substring.append(temp)\n",
    "          temp=temp[1:]\n",
    "      #now we get the substring for a particular dna\n",
    "      #iterate each substring \n",
    "      min=1000000000\n",
    "      #print(substring)\n",
    "      for s in substring:\n",
    "        #find the hamming distance for each substring and get the min\n",
    "        #print(p)\n",
    "        #print(s)\n",
    "        if hammingDistance(p,s)<=min:\n",
    "          min=hammingDistance(p,s)\n",
    "      #now we get the min hdist for a particular dna\n",
    "      total_min_for_a_pattern+=min\n",
    "    #calculate the total of all min's of all the dna's\n",
    "    if total_min_for_a_pattern<=res:\n",
    "      \n",
    "      \n",
    "      #print(p)\n",
    "      #print(total_min_for_a_pattern)\n",
    "      if total_min_for_a_pattern==res:\n",
    "        mstring.append(p)\n",
    "      else :\n",
    "        mstring.clear()\n",
    "        mstring.append(p)\n",
    "      res=total_min_for_a_pattern\n",
    "  for x in mstring:\n",
    "    print(x,end=' ')      \n",
    "        "
   ]
  },
  {
   "cell_type": "code",
   "execution_count": null,
   "metadata": {
    "colab": {},
    "colab_type": "code",
    "id": "HY8vy4YN58ag"
   },
   "outputs": [],
   "source": []
  },
  {
   "cell_type": "code",
   "execution_count": null,
   "metadata": {
    "colab": {
     "base_uri": "https://localhost:8080/",
     "height": 34
    },
    "colab_type": "code",
    "executionInfo": {
     "elapsed": 2761,
     "status": "ok",
     "timestamp": 1569943598981,
     "user": {
      "displayName": "anam ibna harun",
      "photoUrl": "https://lh3.googleusercontent.com/a-/AAuE7mC2ydy9modjNBFRLKCP-h8xZEY71hM61uXEzOh6yQ=s64",
      "userId": "00525343064882395956"
     },
     "user_tz": -360
    },
    "id": "aHVSsG-R5PkZ",
    "outputId": "bf82427f-fe17-4c64-ac0e-b9699a618852"
   },
   "outputs": [
    {
     "name": "stdout",
     "output_type": "stream",
     "text": [
      "CGAATA "
     ]
    }
   ],
   "source": [
    "f=open(\"rosalind_ba2b.txt\",\"r\")\n",
    "arr=f.read().split('\\n')\n",
    "f.close()\n",
    "#print(arr[1:-1])\n",
    "#FindMedianString(3,['AAATTGACGCAT','GACGACCACGTT','CGTCAGCGCCTG','GCTGAGCACCGG','AGTACGGGACAG'])\n",
    "FindMedianString(int(arr[0]),arr[1:-1])"
   ]
  },
  {
   "cell_type": "markdown",
   "metadata": {
    "colab_type": "text",
    "id": "bBhNcer0HC2V"
   },
   "source": [
    "### BA2C: Find a Profile-most Probable k-mer in a String"
   ]
  },
  {
   "cell_type": "code",
   "execution_count": null,
   "metadata": {
    "colab": {},
    "colab_type": "code",
    "id": "XDoXXDFCHLjV"
   },
   "outputs": [],
   "source": [
    "mark={\n",
    "    'A':0,\n",
    "    'C':1,\n",
    "    'G':2,\n",
    "    'T':3\n",
    "}\n",
    "\n",
    "def kmer(text,k):\n",
    "  res=[]\n",
    "  for i in range(0,len(text)-k+1): res.append(text[i:i+k])\n",
    "  return res\n",
    "\n",
    "def probability(text,profile):\n",
    "  res=1\n",
    "  for ch,col in zip(text,range(0,len(text))): res*=profile[mark[ch]][col]\n",
    "  return res\n",
    "\n",
    "def profileMostProbableKmer(text,profile,k):\n",
    "  \n",
    "  substring= kmer(text,k)\n",
    "  maxpr=-1\n",
    "  res= \"\"\n",
    "  for eachSubstring in substring:\n",
    "    if probability(eachSubstring,profile)>maxpr:  \n",
    "      res=eachSubstring\n",
    "      maxpr = max(maxpr,probability(eachSubstring,profile))\n",
    "  return res "
   ]
  },
  {
   "cell_type": "code",
   "execution_count": null,
   "metadata": {
    "colab": {
     "base_uri": "https://localhost:8080/",
     "height": 71
    },
    "colab_type": "code",
    "executionInfo": {
     "elapsed": 1035,
     "status": "ok",
     "timestamp": 1569996232453,
     "user": {
      "displayName": "anam ibna harun",
      "photoUrl": "https://lh3.googleusercontent.com/a-/AAuE7mC2ydy9modjNBFRLKCP-h8xZEY71hM61uXEzOh6yQ=s64",
      "userId": "00525343064882395956"
     },
     "user_tz": -360
    },
    "id": "XLpmVp_H4XCg",
    "outputId": "da280372-9177-4dd9-e733-2c059e3a0c4f"
   },
   "outputs": [
    {
     "name": "stdout",
     "output_type": "stream",
     "text": [
      "{0: [0.242, 0.333, 0.242, 0.333, 0.212, 0.273], 1: [0.212, 0.273, 0.273, 0.182, 0.394, 0.303], 2: [0.303, 0.091, 0.303, 0.303, 0.212, 0.182], 3: [0.242, 0.303, 0.182, 0.182, 0.182, 0.242]}\n"
     ]
    },
    {
     "data": {
      "text/plain": [
       "'GAGGCT'"
      ]
     },
     "execution_count": 63,
     "metadata": {
      "tags": []
     },
     "output_type": "execute_result"
    }
   ],
   "source": [
    "f=open(\"rosalind_ba2c.txt\",\"r\")\n",
    "arr=f.read().split('\\n')\n",
    "f.close()\n",
    "#print(arr[2].split(' '))\n",
    "profile={}\n",
    "for row,i in zip(arr[2:-1],range(0,len(arr[2:-1]))):\n",
    "  temp=row.split(' ')\n",
    "  profile[i]=[]\n",
    "  for col in temp:\n",
    "    #print(col)\n",
    "    profile[i].append(float(col))\n",
    "print(profile)\n",
    "#pr=arr[2:-1].split(' ')\n",
    "#print(type(pr)\n",
    "\n",
    "profileMostProbableKmer(arr[0],profile,int(arr[1]))      "
   ]
  },
  {
   "cell_type": "markdown",
   "metadata": {
    "colab_type": "text",
    "id": "64nxGqgwSoof"
   },
   "source": [
    "### Common function for algoriths"
   ]
  },
  {
   "cell_type": "code",
   "execution_count": 1,
   "metadata": {
    "colab": {},
    "colab_type": "code",
    "id": "pNW5a-bSAvY9"
   },
   "outputs": [],
   "source": [
    "mark={\n",
    "    'A':0,\n",
    "    'C':1,\n",
    "    'G':2,\n",
    "    'T':3\n",
    "}\n",
    "demark={\n",
    "    0:'A',\n",
    "    1:'C',\n",
    "    2:'G',\n",
    "    3:'T'\n",
    "}\n",
    "\n",
    "def kmer(text,k):\n",
    "  res=[]\n",
    "  for i in range(0,len(text)-k+1): res.append(text[i:i+k])\n",
    "  return res\n",
    "\n",
    "def probability(text,profile):\n",
    "  res=1\n",
    "  for ch,col in zip(text,range(0,len(text))): res*=profile[mark[ch]][col]\n",
    "  return res\n",
    "\n",
    "\n",
    "\n",
    "def profileMostProbableKmer(text,profile,k):\n",
    "  \n",
    "  substring= kmer(text,k)\n",
    "  maxpr=-1\n",
    "  res= \"\"\n",
    "  for eachSubstring in substring:\n",
    "    if probability(eachSubstring,profile)>maxpr:  \n",
    "      res=eachSubstring\n",
    "      maxpr = max(maxpr,probability(eachSubstring,profile))\n",
    "  return res \n",
    "\n",
    "\n",
    "def countProfile(motifSet):\n",
    "  symbol='ACGT'\n",
    "  count={}\n",
    "  profile={}\n",
    "  for i in range(0,4):\n",
    "    count[i]=[]\n",
    "    profile[i]=[]\n",
    "    #print(len(motifSet[0]))\n",
    "    for l in range(0,len(motifSet[0])):\n",
    "      count[i].append(0)\n",
    "      profile[i].append(0)\n",
    "  for motif in motifSet:\n",
    "    for ch,col in zip(motif,range(0,len(motif))):\n",
    "      count[mark[ch]][col]+=1\n",
    "  for s in symbol:\n",
    "    for i in range(0,len(motifSet[0])):\n",
    "      profile[mark[s]][i]=count[mark[s]][i]/len(motifSet)\n",
    "  return count,profile\n",
    "\n",
    "\n",
    "def pseudocountProfile(motifSet):\n",
    "  symbol='ACGT'\n",
    "  count={}\n",
    "  profile={}\n",
    "  for i in range(0,4):\n",
    "    count[i]=[]\n",
    "    profile[i]=[]\n",
    "    for j in range(0,len(motifSet[0])):\n",
    "      count[i].append(4)\n",
    "      profile[i].append(0)\n",
    "  for motif in motifSet:\n",
    "    for ch,col in zip(motif,range(0,len(motif))):\n",
    "      count[mark[ch]][col]+=1\n",
    "  for s in symbol:\n",
    "    for i in range(0,len(motifSet[0])):\n",
    "      profile[mark[s]][i]=count[mark[s]][i]/(len(motifSet)+4)\n",
    "  return count,profile\n",
    "\n",
    "\n",
    "def consensusScore(motifSet):\n",
    "  countMatrix,profile=countProfile(motifSet)\n",
    "  temp=\"\"\n",
    "  score=0\n",
    "  for i in range(0,len(motifSet[0])):\n",
    "    maxi=0\n",
    "    ch=''\n",
    "    for j in range(0,4):\n",
    "      if countMatrix[j][i]>maxi:\n",
    "        ch=demark[j]\n",
    "        maxi=countMatrix[j][i]\n",
    "    score+=len(motifSet)-maxi    \n",
    "    temp+=ch\n",
    "  return temp,score\n",
    "\n",
    "\n",
    "\n",
    "\n",
    "    "
   ]
  },
  {
   "cell_type": "markdown",
   "metadata": {
    "colab_type": "text",
    "id": "bQyjJfJKFRnA"
   },
   "source": [
    "### BA1D: Implement GreedyMotifSearch\n"
   ]
  },
  {
   "cell_type": "code",
   "execution_count": null,
   "metadata": {
    "colab": {},
    "colab_type": "code",
    "id": "WVKRA8UhpPyO"
   },
   "outputs": [],
   "source": [
    "def greedyMotifSearch(Dna,k,t):\n",
    "  bestMotifSet=[]\n",
    "  for x in Dna:\n",
    "    temp=\"\"\n",
    "    for ch in x :\n",
    "      temp+=ch\n",
    "      if len(temp)==k:\n",
    "        bestMotifSet.append(temp)\n",
    "        break\n",
    "  bestConsensus,bestScore=   consensusScore(bestMotifSet)  \n",
    "  for x in kmer(Dna[0],k):\n",
    "    motifSet=[]\n",
    "    motifSet.append(x)\n",
    "    count,profile=countProfile(motifSet)\n",
    "    for eachDna in Dna[1:]:\n",
    "      motifSet.append(profileMostProbableKmer(eachDna,profile,k))\n",
    "      count,profile=countProfile(motifSet)\n",
    "    tempConsensus,tempScore=consensusScore(motifSet)\n",
    "    if tempScore<bestScore:\n",
    "      bestMotifSet=motifSet\n",
    "      bestScore=tempScore\n",
    "  for x in bestMotifSet:\n",
    "    print(x)\n",
    "  return \n",
    "\n"
   ]
  },
  {
   "cell_type": "code",
   "execution_count": null,
   "metadata": {
    "colab": {
     "base_uri": "https://localhost:8080/",
     "height": 442
    },
    "colab_type": "code",
    "executionInfo": {
     "elapsed": 2079,
     "status": "ok",
     "timestamp": 1570013820131,
     "user": {
      "displayName": "anam ibna harun",
      "photoUrl": "https://lh3.googleusercontent.com/a-/AAuE7mC2ydy9modjNBFRLKCP-h8xZEY71hM61uXEzOh6yQ=s64",
      "userId": "00525343064882395956"
     },
     "user_tz": -360
    },
    "id": "IFJ7igNMz4lm",
    "outputId": "b2859b4e-ae5c-4a05-c5a0-aeab2b55a1aa"
   },
   "outputs": [
    {
     "name": "stdout",
     "output_type": "stream",
     "text": [
      "AAAAAAGGTATG\n",
      "TGGGATTACTAA\n",
      "TTTTTGTGACGG\n",
      "CTCCCTTATCGA\n",
      "ATTGTATATCTG\n",
      "ATAGTATATAGG\n",
      "AAGGCATATCAA\n",
      "TATGAATATAGG\n",
      "CCCTAGTTCTCG\n",
      "AATTAATTTAGG\n",
      "CCTGCAGATCGG\n",
      "AGTTAAGACATG\n",
      "AATAAATGCAGG\n",
      "AGATATGTTTGG\n",
      "CAAATAGTTCGG\n",
      "CTAGAAGGTCGG\n",
      "TTTACTGACAGG\n",
      "ATTAATTACTGG\n",
      "AGAACTGAAATG\n",
      "AATTAATGTCGG\n",
      "AACTAGGGTAGG\n",
      "ATTGTATAACGA\n",
      "TATTAATGCCGG\n",
      "CATAAATGCAGG\n",
      "CAGTCATACTGA\n"
     ]
    }
   ],
   "source": [
    "#greedyMotifSearch(['GGCGTTCAGGCA','AAGAATCAGTCA','CAAGGAGTTCGC','CACGTCAATCAC','CAATAATATTCG'],3,5)\n",
    "f=open(\"rosalind_ba2d.txt\",\"r\")\n",
    "arr=f.read().split('\\n')\n",
    "f.close()\n",
    "kt=arr[0].split(' ')\n",
    "k=kt[0]\n",
    "t=kt[1]\n",
    "greedyMotifSearch(arr[1:-1],int(k),int(t))\n"
   ]
  },
  {
   "cell_type": "markdown",
   "metadata": {
    "colab_type": "text",
    "id": "lbgOGoVoDJQz"
   },
   "source": [
    "### BA2E: Implement GreedyMotifSearch with Pseudocounts\n"
   ]
  },
  {
   "cell_type": "code",
   "execution_count": null,
   "metadata": {
    "colab": {},
    "colab_type": "code",
    "id": "vrN7QqZ6DKDx"
   },
   "outputs": [],
   "source": [
    "def greedyMotifSearchP(Dna,k,t):\n",
    "  bestMotifSet=[]\n",
    "  for x in Dna:\n",
    "    temp=\"\"\n",
    "    for ch in x :\n",
    "      temp+=ch\n",
    "      if len(temp)==k:\n",
    "        bestMotifSet.append(temp)\n",
    "        break\n",
    "  bestConsensus,bestScore=   consensusScore(bestMotifSet)  \n",
    "  for x in kmer(Dna[0],k):\n",
    "    motifSet=[]\n",
    "    motifSet.append(x)\n",
    "    count,profile=pseudocountProfile(motifSet)\n",
    "    for eachDna in Dna[1:]:\n",
    "      motifSet.append(profileMostProbableKmer(eachDna,profile,k))\n",
    "      count,profile=pseudocountProfile(motifSet)\n",
    "    tempConsensus,tempScore=consensusScore(motifSet)\n",
    "    if tempScore<bestScore:\n",
    "      bestMotifSet=motifSet\n",
    "      bestScore=tempScore\n",
    "  for x in bestMotifSet:\n",
    "    print(x)\n",
    "  return \n",
    "\n"
   ]
  },
  {
   "cell_type": "code",
   "execution_count": null,
   "metadata": {
    "colab": {
     "base_uri": "https://localhost:8080/",
     "height": 442
    },
    "colab_type": "code",
    "executionInfo": {
     "elapsed": 3541,
     "status": "ok",
     "timestamp": 1570014026915,
     "user": {
      "displayName": "anam ibna harun",
      "photoUrl": "https://lh3.googleusercontent.com/a-/AAuE7mC2ydy9modjNBFRLKCP-h8xZEY71hM61uXEzOh6yQ=s64",
      "userId": "00525343064882395956"
     },
     "user_tz": -360
    },
    "id": "enCmWMfAGNd3",
    "outputId": "3cf87584-cffb-429d-d824-84d9abaf8372"
   },
   "outputs": [
    {
     "name": "stdout",
     "output_type": "stream",
     "text": [
      "ACCGGGCAGTCC\n",
      "ACCGGGACGCCC\n",
      "ACCGTGGGGCCC\n",
      "ACCGTGAGGACC\n",
      "ACCGGGGCGCCC\n",
      "ACCGTGCGGCCC\n",
      "ACCGCGACGTCC\n",
      "ACCGCGGGGACC\n",
      "ACCGGGGCGGCC\n",
      "ACCGAGGGGCCC\n",
      "ACCGGGACGTCC\n",
      "ACCGGGGTGCCC\n",
      "ACCGAGGCGTCC\n",
      "ACCGCGTAGGCC\n",
      "ACCGGGGTGTCC\n",
      "ACCGAGCAGACC\n",
      "ACCGTGGTGTCC\n",
      "ACCGGGCGGCCC\n",
      "ACCGTGAAGGCC\n",
      "ACCGAGTCGCCC\n",
      "ACCGGGCCGTCC\n",
      "ACCGCGAAGCCC\n",
      "ACCGTGGCGGCC\n",
      "ACCGGGACGACC\n",
      "ACCGTGTAGACC\n"
     ]
    }
   ],
   "source": [
    "#greedyMotifSearchP(['GGCGTTCAGGCA','AAGAATCAGTCA','CAAGGAGTTCGC','CACGTCAATCAC','CAATAATATTCG'],3,5)\n",
    "f=open(\"rosalind_ba2e.txt\",\"r\")\n",
    "arr=f.read().split('\\n')\n",
    "f.close()\n",
    "kt=arr[0].split(' ')\n",
    "k=kt[0]\n",
    "t=kt[1]\n",
    "greedyMotifSearchP(arr[1:-1],int(k),int(t))"
   ]
  },
  {
   "cell_type": "markdown",
   "metadata": {
    "colab_type": "text",
    "id": "wQcTUH_5IVsD"
   },
   "source": [
    "### BA2F: Implement RandomizedMotifSearch"
   ]
  },
  {
   "cell_type": "code",
   "execution_count": null,
   "metadata": {
    "colab": {},
    "colab_type": "code",
    "id": "Mvr3ZHXFIjN0"
   },
   "outputs": [],
   "source": [
    "import random as random\n",
    "def randomizedMotifSearch(Dna, k, t):\n",
    "  motifSet=[]\n",
    "  for x in Dna:\n",
    "    motifSet.append(random.choice(kmer(x,k)))\n",
    "  bestMotifSet=motifSet\n",
    "  bestConsensus,bestScore=consensusScore(bestMotifSet)\n",
    "  \n",
    "  while True:\n",
    "    count,profile=pseudocountProfile(motifSet)\n",
    "    motifSet.clear()\n",
    "    for x in Dna:\n",
    "      motifSet.append(profileMostProbableKmer(x,profile,k))\n",
    "    tempConsensus,tempScore=consensusScore(motifSet)\n",
    "    if tempScore<bestScore:\n",
    "      bestMotifSet=motifSet\n",
    "      \n",
    "      bestScore=tempScore\n",
    "    else :\n",
    "      #for x in bestMotifSet:\n",
    "        #print(x)\n",
    "      return bestMotifSet\n",
    "    \n",
    "def repeatedRandomizedMotifSearch(Dna, k, t):\n",
    "    bestScore = float('inf')\n",
    "    bestMotifSet = []\n",
    "    for i in range(1000):\n",
    "        motifSet = randomizedMotifSearch(Dna, k, t)\n",
    "        currConsensus,currScore = consensusScore(motifSet)\n",
    "        if CurrScore < BestScore:\n",
    "            bestScore = currScore\n",
    "            bestMotifSet = motifSet\n",
    "    for x in bestMotifSet:\n",
    "      print(x)\n",
    "    return     "
   ]
  },
  {
   "cell_type": "code",
   "execution_count": null,
   "metadata": {
    "colab": {
     "base_uri": "https://localhost:8080/",
     "height": 357
    },
    "colab_type": "code",
    "executionInfo": {
     "elapsed": 46889,
     "status": "ok",
     "timestamp": 1570019908350,
     "user": {
      "displayName": "anam ibna harun",
      "photoUrl": "https://lh3.googleusercontent.com/a-/AAuE7mC2ydy9modjNBFRLKCP-h8xZEY71hM61uXEzOh6yQ=s64",
      "userId": "00525343064882395956"
     },
     "user_tz": -360
    },
    "id": "IFOhvkWqMJ51",
    "outputId": "f8d7100c-86e9-4ac8-8057-e2824091e3df"
   },
   "outputs": [
    {
     "name": "stdout",
     "output_type": "stream",
     "text": [
      "GGTGTTGACTTCGGA\n",
      "GGTACGCAACAGGCA\n",
      "GGTTTTCAAATCGCA\n",
      "GGTTTAGGACAGGCA\n",
      "GGCGGTCAACAGGCA\n",
      "GGTTTATGACAGGCA\n",
      "ATGTTTCAACAGGCA\n",
      "ACTTTTCAACAGGCT\n",
      "GGTTAGAAACAGGCA\n",
      "GGTTTTCAACAATTA\n",
      "GGTTTTCAACCTTCA\n",
      "GGTTTTTGCCAGGCA\n",
      "GGTCGCCAACAGGCA\n",
      "GGTTTTCTTGAGGCA\n",
      "GGTTTTCACGGGGCA\n",
      "GGTTTTCAACAGCTC\n",
      "CGTTTTCAACAGGAG\n",
      "GCACTTCAACAGGCA\n",
      "GGTTCAGAACAGGCA\n",
      "GGTTTTTCGCAGGCA\n"
     ]
    }
   ],
   "source": [
    "f=open(\"rosalind_ba2f.txt\",\"r\")\n",
    "arr=f.read().split('\\n')\n",
    "f.close()\n",
    "kt=arr[0].split(' ')\n",
    "k=kt[0]\n",
    "t=kt[1]\n",
    "RepeatedRandomizedMotifSearch(arr[1:-1],int(k),int(t))"
   ]
  },
  {
   "cell_type": "markdown",
   "metadata": {
    "colab_type": "text",
    "id": "30bqEdT2e3tI"
   },
   "source": [
    "### BA2G: Implement GibbsSampler"
   ]
  },
  {
   "cell_type": "code",
   "execution_count": null,
   "metadata": {
    "colab": {},
    "colab_type": "code",
    "id": "SqK7oQY6e7Vn"
   },
   "outputs": [],
   "source": [
    "import random\n",
    "def randomkmers(dna,k):\n",
    "    motifs = []\n",
    "    for one in dna:\n",
    "        pos = random.randrange(0,len(dna[0])-k+1)\n",
    "        motifs.append(one[pos:pos+k])\n",
    "    return motifs\n",
    "\n",
    "def gibbssampler(dna,k,t,N):\n",
    "    motifs = randomkmers(dna,k)\n",
    "    best = motifs\n",
    "    for j in range(N):\n",
    "        i = random.randrange(0,t)\n",
    "        motifs.pop(i)\n",
    "        matrix = motifsToProfile(motifs)\n",
    "        motifi = profileRandomlyGeneratedkmer(dna[i],k,matrix)\n",
    "        motifs.insert(i,motifi)\n",
    "        if score(motifs) < score(best):\n",
    "            best = motifs\n",
    "    return best\n",
    "\n",
    "def score(motifs):\n",
    "    z = zip(*motifs)\n",
    "    thescore = 0\n",
    "    for string in z:\n",
    "        score = len(string) - max([string.count('A'), string.count('C'), string.count('G'), string.count('T')])\n",
    "        thescore += score\n",
    "    return thescore\n",
    "\n",
    "def motifsToProfile(motifs):\n",
    "    d = {}\n",
    "    n = float(len(motifs))\n",
    "    z = list(zip(*motifs))\n",
    "    for i in range(len(z)):\n",
    "        d.setdefault('A', []).append((z[i].count('A')+1)/n/2)\n",
    "        d.setdefault('C', []).append((z[i].count('C')+1)/n/2)\n",
    "        d.setdefault('G', []).append((z[i].count('G')+1)/n/2)\n",
    "        d.setdefault('T', []).append((z[i].count('T')+1)/n/2)\n",
    "    return d\n",
    "\n",
    "def Random(p):\n",
    "    wheel = [0]*(len(p)+1)\n",
    "    s = sum(p)\n",
    "    if s!= float(1):\n",
    "        p = [float(i)/sum(p) for i in p]\n",
    "    for index in range(len(p)):\n",
    "        wheel[index+1] = wheel[index] + p[index]\n",
    "    r = random.random() # 0 and 1\n",
    "    for i in range(len(wheel)-1):\n",
    "        if wheel[i] < r < wheel[i+1]:\n",
    "            result = i\n",
    "    return result\n",
    "\n",
    "def profileRandomlyGeneratedkmer(text, k , matrix):\n",
    "    prob = []\n",
    "    for i in range(len(text)-k+1):\n",
    "        kmer = text[i:i+k]\n",
    "        pt = 1\n",
    "        for j in range(k):\n",
    "            p = matrix[kmer[j]][j]\n",
    "            pt *=p\n",
    "        prob.append(pt)\n",
    "    kmer_index = Random(prob)\n",
    "    randomkmer = text[kmer_index:kmer_index+k]\n",
    "    return randomkmer\n",
    "\n",
    "def runrandomtimes(dna,k,t,N,times):\n",
    "    bestmotifs = []\n",
    "    highscore = None\n",
    "    for i in range(int(times)):\n",
    "        tempmotifs = gibbssampler(dna,k,t,N)\n",
    "        tempscore = score(tempmotifs)\n",
    "        if highscore == None or highscore > tempscore:\n",
    "            highscore = tempscore\n",
    "            bestmotifs = tempmotifs\n",
    "    for x in bestmotifs:\n",
    "      print(x)\n",
    "    return highscore\n"
   ]
  },
  {
   "cell_type": "code",
   "execution_count": null,
   "metadata": {
    "colab": {
     "base_uri": "https://localhost:8080/",
     "height": 374
    },
    "colab_type": "code",
    "executionInfo": {
     "elapsed": 58304,
     "status": "ok",
     "timestamp": 1570105283592,
     "user": {
      "displayName": "anam ibna harun",
      "photoUrl": "https://lh3.googleusercontent.com/a-/AAuE7mC2ydy9modjNBFRLKCP-h8xZEY71hM61uXEzOh6yQ=s64",
      "userId": "00525343064882395956"
     },
     "user_tz": -360
    },
    "id": "Pt-cRovuAz8P",
    "outputId": "1d65adb3-bede-4ced-b75a-df9a4c85c6e9"
   },
   "outputs": [
    {
     "name": "stdout",
     "output_type": "stream",
     "text": [
      "ACACAATAAAGGTTA\n",
      "CTTTTAGTACACAAT\n",
      "GAGATACGCGACATG\n",
      "CTTATGCATATCGTG\n",
      "TAAACGCCCGACGAG\n",
      "CCCAAAGCTAGACAC\n",
      "TGAAAACCGGATGTC\n",
      "CTCAACTCGTGCTCG\n",
      "CATACTCTCTGCATT\n",
      "TTTGGAGCCCGCTTA\n",
      "CAAATACATGATTTA\n",
      "GATCACGCGGACATG\n",
      "CAAGCGCAATATCTG\n",
      "TTCTCTGCCAACTTA\n",
      "GATCAATCCGACCTA\n",
      "CCAATATACGACATC\n",
      "AACCCACTTTTTGTG\n",
      "CGCTCGGACTACATA\n",
      "GTCACATCAAGCCTA\n",
      "GAAGAATTCAACCTC\n"
     ]
    },
    {
     "data": {
      "text/plain": [
       "158"
      ]
     },
     "execution_count": 19,
     "metadata": {
      "tags": []
     },
     "output_type": "execute_result"
    }
   ],
   "source": [
    "f=open(\"rosalind_ba2g.txt\",\"r\")\n",
    "arr=f.read().split('\\n')\n",
    "f.close()\n",
    "ktN=arr[0].split(' ')\n",
    "k=ktN[0]\n",
    "t=ktN[1]\n",
    "N=ktN[2]\n",
    "runrandomtimes(arr[1:-1],int(k),int(t),int(N),20)"
   ]
  },
  {
   "cell_type": "markdown",
   "metadata": {
    "colab_type": "text",
    "id": "eCSo-1va7HRR"
   },
   "source": [
    "### BA2H: Implement DistanceBetweenPatternAndStrings"
   ]
  },
  {
   "cell_type": "code",
   "execution_count": null,
   "metadata": {
    "colab": {},
    "colab_type": "code",
    "id": "8FvxOgqL7OEv"
   },
   "outputs": [],
   "source": [
    "\n",
    "def kmer(text,k):\n",
    "  res=[]\n",
    "  for i in range(0,len(text)-k+1): res.append(text[i:i+k])\n",
    "  return res\n",
    "\n",
    "def hammingDistance(st1,st2):\n",
    "  count=0\n",
    "  for (x,y) in zip(st1,st2):\n",
    "    if x!=y:\n",
    "      count+=1\n",
    "  return count    \n",
    "def distanceBetweenPatternAndStrings(pattern,Dna):\n",
    "  res=0\n",
    "  for dna in Dna:\n",
    "    dis=len(dna)\n",
    "    for x in kmer(dna,len(pattern)):\n",
    "      dis=min(dis,hammingDistance(pattern,x))\n",
    "    res+=dis\n",
    "  print(res)\n",
    "  return"
   ]
  },
  {
   "cell_type": "code",
   "execution_count": null,
   "metadata": {
    "colab": {
     "base_uri": "https://localhost:8080/",
     "height": 71
    },
    "colab_type": "code",
    "executionInfo": {
     "elapsed": 871,
     "status": "ok",
     "timestamp": 1570061730443,
     "user": {
      "displayName": "anam ibna harun",
      "photoUrl": "https://lh3.googleusercontent.com/a-/AAuE7mC2ydy9modjNBFRLKCP-h8xZEY71hM61uXEzOh6yQ=s64",
      "userId": "00525343064882395956"
     },
     "user_tz": -360
    },
    "id": "n0r_UKe48-9Z",
    "outputId": "7dc78134-4929-487b-9003-18f5194542f1"
   },
   "outputs": [
    {
     "name": "stdout",
     "output_type": "stream",
     "text": [
      "['TTGATGGCCGAGGATGTGACTCGGTGCCCGAAGAAGTATATTCTGCGGCCCAGTAGTGAATTAAGTAGAGTAGGAAAGCGCGGTATAAGCTGTGCGTGTCTTATGGTT', 'CGTCTACTCTGGAACCAATAAAACATTGCTAGTCGGGTCGGTACGCACTACGTTATCCAGACCACCGTCCAAACGCTCATCGCGCGATGCGGATCATGTATGAGGCAT', 'TGTTTTGGATCTCGAATCGACTTTTTGAACCCGAACAAGCCAACGATATGATTATCTGCGTAAAGTTCCCCGTGTCAACCCTATACCCGCGTCGGCTATTGTGCTTAA', 'GAGCGAAGTGTAACGAACACGAGCTATTTATACTTATGCCCAATAACTAAACCTCCCTTATCAGCCGCCAGGGGCTAACCCTAAGAGGGGACCTGGCGAGGGCCACTA', 'CCTAGGCAAAGGGACTGTAAACATGAGGGAGGTATTAAAAGCTAGGTCCACTCCCGGACCCAGATCCAATTTATTATTCCAGGCCTTGATATGACGCCAGTTGCAGGA', 'AGTGGGGGCAGGACATTAATACTGTCTCTCCCTGACCACCGGGCCCGATGTTTCCTGTAGGCTTTTTTAATCCGTGTGATTAGGGCCTAAACGCATCGCCGGGGAAAC', 'ACACGAAAGACATCGTCGGGATTGGAGTGTGTTTTTAACTGCCAACGCGCGATAGTGGCTGTTTACAGCTTGGATAGCGGCGGGTACAAACTCAGTTCTACAAAACGG', 'TCATTTGTGATTAGCAAATTGGAGTACTAACCGTAACTGCTACCCTAATACCTGTGTAGACTAATTCACGAGCTTCTTCATTTATTGGGTTAAAATCACGTGGCTCCT', 'TGGACGGACGCTGATGCTGCTAAATAATTTCGCCATACGCATGTGAGATCGACCCATATCCTAGCAACCATGAAATGACACACTGATGGCGGCCTTCAGTATTAAGGC', 'CCTAGCTACTGAAGTGGTGCCACCGGCCTAATAATGACACGCTGCTGAGTGGGATTCTGACGGCGAGGCTAGGACCGACGCCGAATTGGTTACTGACATATTTCTGAT', 'CCATATGTGACCAAGTGGTAATCGTCAGGGGATGTGGGGTGATAATTAGCGTAAGTCTTAAGGGCGGATCATCTGTCGATTAGCAAGCATCTCCGAATTGTCGCTGTC', 'TCCCGCCCACTTAAGAAGACGAGAGACTTGAAATCTCCAGCCGCTTAGTCTAAAGGCGCAGCAAGTCCGAGAACCCAGAGGAAGGACCACCGACGAGTGGAGACGCTT', 'GTGACCTTAACGTCTGGACAGAACGCTACTGTACGAGTAACTGATCATAAAGGAGCCGATGGGATCAGATCCCACCCGAATCAGAAGCCCCTGGCTTGACCTTCAACA', 'TTTTAATTTGTTGGAGAAAGGTAGGTCGTAATACCCTCCTACAGATTGCAAACACGCGCCCTACTATCCGTACTACCGGACAGCCTTACATGGCGACCACCATTTTAC', 'CTATGCCACTGCCCCATGTATACTATGCTAGGACGGCCTCGGTGTATAGGTTTTGGGATATGACCACTTTGAGCCAATTCCGCTAACGACACTGTACAGTTCTCCAGT', 'CTCCCAAAGTATTGGCATTAAATTATCGGGGCGTTGGCAAACGGAATTTGTCTTAAGGCTTCTGTATTGCCAGTGCGATTCTACTTGATGCCGGACTTCCAGGCTAGA', 'GGCCCAGTATTCTTTGGTTGGCCGCATATGATTGCTGATCAGGCTCTAATTTCGGAGCATCGCCACGTTAGGGCAGTAGGTAGGCTGCCGCTACTTAGATGGACATGC', 'ATGTTCGCCGAAAGCTTTATTCCCCTGCAACTTAGGAACTCAGCATGTATCGTGATCATAACGGCTTCGTCCAGTCCTCGAGCCGACGGGGCGGTAATGAGTTCCAAT', 'TCGTTCCCTTATTGATCTCCCCCCAGGTGTCCTCAGGTCCGATTCATTTGGGGCCCGTATGGTCGCAGCTTTCGCCCCTGTTACACAACGTACAGATCCAGCGCAAAG', 'GCTTTAGACGAGCCATCCCTAGGTTTTTCCCTCTTCCATCAGTACATGGACATCCCTGTTAACGGGTCGAGGTACTGAAATAGCCTTCAAGTTCCGACAGGAACCCCA', 'GCCTCACAGCCACTTGACCGACTCGGAGCGTGATCGTGCGATACCTCCACTGTGTGGTGCGTACACAAAGACTGAGCTACGAGGAACAGGGTAGCCTGATGTGAGACG', 'GTCTCATACAATCTATAGTGCTTTGGATTGTTTCTTGTGAGCCACGAACGCCCCTCCGACACATGACAGGCTGTATCGCCTGCGGTGATTTGGTTTACAAGGCGGTTG', 'ACCTACATGCCATCACGAATCTTCTGTACGGTTTCTAAAACATGAATCTGATGACTTTCGTCGTGGGGGAGCCACGGTTAGGCACTCTTCACTATTGCTCGATAGTGG', 'TGCCTTACTTCTTATGTGTTCAAGTGCAATCCGGCCGCCCGCCTGGACCCCCACAGAGTGTATCAGTGAGACGAGCCGCAACCGCCACCTCAGATGAATATTACGTAC', 'TGGGGAAATAGTGAAGGGACTGTTAATTAGACGATATGCAATTCTCGGCATTCGGTCCGATTTGTTTGAAATAGTCGTCGCGAAATTAAGCCAAAGCCGCAGATTGAG', 'ATGTAGTGGCGAATTAGCACGTTCTCTTCGTGCACTATATCAATATTTGGTAAATCACTGAATCCCACAGCTACCGTCAACAGTACCCTTTTAAAAACGAACGACAGT', 'GGCCAGTCCGTGTGGTCCCATCTCATCTGGTGGTCTTAGAATCTTCTCACAGTTGATTTACGTCCGCCCATCCGCAGTCGCCGAACAGTCCGGAAAGTGCACATACTA', 'TTTAGGATCTATCGCTGGTCCGAACCATCTGAAATCACCTTGCAAACCGGCAAAACCCTCAATCCATTAATTTGCGGCAAGTCCCCTTCGTGCTCATCCCGGTGCTAG', 'AAGGCGGAGGAACCACAGAAGGTTGGACAAGTTCACAGCCATCACATCCTGAAACTGGGTTGGAGATCACGGGCTACGTTACGAGAGCGGCACTCGCTCTAACAGTAC', 'CAGTTCGTGCAAGGCTATACTCAATGGTGTTCGATTCCGGGCACGGCGGTATTTTTAGCCGTTAAGAGGGATTGACGCCCCTAACTGCCTTACACCGCCAATAAAAAA']\n",
      "66\n"
     ]
    }
   ],
   "source": [
    "f=open(\"rosalind_ba2h.txt\",\"r\")\n",
    "arr=f.read().split('\\n')\n",
    "f.close()\n",
    "Dna=arr[1].split(' ')\n",
    "print(Dna)\n",
    "distanceBetweenPatternAndStrings(arr[0],Dna)"
   ]
  },
  {
   "cell_type": "code",
   "execution_count": null,
   "metadata": {
    "colab": {},
    "colab_type": "code",
    "id": "atkcoisQ1dVs"
   },
   "outputs": [],
   "source": []
  }
 ],
 "metadata": {
  "colab": {
   "name": "(ch-2)2015331023",
   "provenance": [],
   "toc_visible": true
  },
  "kernelspec": {
   "display_name": "Python 3 (ipykernel)",
   "language": "python",
   "name": "python3"
  },
  "language_info": {
   "codemirror_mode": {
    "name": "ipython",
    "version": 3
   },
   "file_extension": ".py",
   "mimetype": "text/x-python",
   "name": "python",
   "nbconvert_exporter": "python",
   "pygments_lexer": "ipython3",
   "version": "3.8.12"
  }
 },
 "nbformat": 4,
 "nbformat_minor": 4
}
