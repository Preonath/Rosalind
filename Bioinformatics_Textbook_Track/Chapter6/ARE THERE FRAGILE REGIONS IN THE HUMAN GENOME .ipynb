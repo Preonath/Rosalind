{
 "cells": [
  {
   "cell_type": "markdown",
   "id": "41a56966-279a-4800-bf22-d360c1bc48c5",
   "metadata": {},
   "source": [
    "## Implement GreedySorting to Sort a Permutation by Reversals\n"
   ]
  },
  {
   "cell_type": "code",
   "execution_count": null,
   "id": "e9b257ac-0047-4f00-a689-937303eb5e0e",
   "metadata": {},
   "outputs": [],
   "source": []
  },
  {
   "cell_type": "code",
   "execution_count": null,
   "id": "44d92f2d-e88c-443c-b836-cc3d2d77ec35",
   "metadata": {},
   "outputs": [],
   "source": []
  },
  {
   "cell_type": "code",
   "execution_count": null,
   "id": "9169275d-8f69-4fdb-98cf-bbca2d260ea8",
   "metadata": {},
   "outputs": [],
   "source": []
  },
  {
   "cell_type": "code",
   "execution_count": null,
   "id": "d8dfd52f-7e61-403c-bdd8-553937ba9971",
   "metadata": {},
   "outputs": [],
   "source": []
  },
  {
   "cell_type": "code",
   "execution_count": null,
   "id": "4fa1d880-8784-4198-9651-22a870d542fe",
   "metadata": {},
   "outputs": [],
   "source": []
  },
  {
   "cell_type": "markdown",
   "id": "0594d94b-1169-40d6-ab79-ba9ddd6ac5e8",
   "metadata": {
    "jp-MarkdownHeadingCollapsed": true,
    "tags": []
   },
   "source": [
    "## Find All Shared k-mers of a Pair of Strings"
   ]
  },
  {
   "cell_type": "code",
   "execution_count": null,
   "id": "2956b771-0b85-42af-b335-f633615b57b4",
   "metadata": {},
   "outputs": [],
   "source": []
  },
  {
   "cell_type": "code",
   "execution_count": 63,
   "id": "e51b003f-c3c1-4b1f-8fda-acdcfed4eab1",
   "metadata": {
    "tags": []
   },
   "outputs": [
    {
     "name": "stdout",
     "output_type": "stream",
     "text": [
      "(288, 1137)\n",
      "(289, 447)\n",
      "(289, 1136)\n",
      "(289, 1381)\n",
      "(535, 2180)\n",
      "(535, 3212)\n",
      "(1129, 2180)\n",
      "(1129, 3212)\n",
      "(1130, 2181)\n",
      "(1566, 3860)\n",
      "(3065, 799)\n",
      "(4566, 2549)\n",
      "(4567, 2550)\n",
      "(4568, 2551)\n",
      "(5322, 2956)\n",
      "(7001, 3779)\n",
      "(7152, 2100)\n",
      "(8379, 4392)\n"
     ]
    },
    {
     "ename": "KeyboardInterrupt",
     "evalue": "",
     "output_type": "error",
     "traceback": [
      "\u001b[0;31m---------------------------------------------------------------------------\u001b[0m",
      "\u001b[0;31mKeyboardInterrupt\u001b[0m                         Traceback (most recent call last)",
      "\u001b[0;32m/tmp/ipykernel_5750/83993776.py\u001b[0m in \u001b[0;36m<module>\u001b[0;34m\u001b[0m\n\u001b[1;32m     26\u001b[0m \u001b[0;34m\u001b[0m\u001b[0m\n\u001b[1;32m     27\u001b[0m \u001b[0;32mfor\u001b[0m \u001b[0mk\u001b[0m\u001b[0;34m,\u001b[0m\u001b[0mv\u001b[0m \u001b[0;32min\u001b[0m \u001b[0md\u001b[0m\u001b[0;34m.\u001b[0m\u001b[0mitems\u001b[0m\u001b[0;34m(\u001b[0m\u001b[0;34m)\u001b[0m\u001b[0;34m:\u001b[0m\u001b[0;34m\u001b[0m\u001b[0;34m\u001b[0m\u001b[0m\n\u001b[0;32m---> 28\u001b[0;31m     \u001b[0;32mfor\u001b[0m \u001b[0mx\u001b[0m\u001b[0;34m,\u001b[0m\u001b[0my\u001b[0m \u001b[0;32min\u001b[0m \u001b[0mdd\u001b[0m\u001b[0;34m.\u001b[0m\u001b[0mitems\u001b[0m\u001b[0;34m(\u001b[0m\u001b[0;34m)\u001b[0m\u001b[0;34m:\u001b[0m\u001b[0;34m\u001b[0m\u001b[0;34m\u001b[0m\u001b[0m\n\u001b[0m\u001b[1;32m     29\u001b[0m         \u001b[0;32mif\u001b[0m\u001b[0;34m(\u001b[0m\u001b[0mv\u001b[0m\u001b[0;34m[\u001b[0m\u001b[0;36m0\u001b[0m\u001b[0;34m]\u001b[0m\u001b[0;34m==\u001b[0m\u001b[0my\u001b[0m \u001b[0;32mor\u001b[0m \u001b[0mv\u001b[0m\u001b[0;34m[\u001b[0m\u001b[0;36m1\u001b[0m\u001b[0;34m]\u001b[0m\u001b[0;34m==\u001b[0m\u001b[0my\u001b[0m\u001b[0;34m)\u001b[0m\u001b[0;34m:\u001b[0m\u001b[0;34m\u001b[0m\u001b[0;34m\u001b[0m\u001b[0m\n\u001b[1;32m     30\u001b[0m             \u001b[0mm\u001b[0m\u001b[0;34m=\u001b[0m\u001b[0;34m\"({}, {})\"\u001b[0m\u001b[0;34m\u001b[0m\u001b[0;34m\u001b[0m\u001b[0m\n",
      "\u001b[0;31mKeyboardInterrupt\u001b[0m: "
     ]
    }
   ],
   "source": [
    "def rev_compl(st):\n",
    "    nn = {'A': 'T', 'C': 'G', 'G': 'C', 'T': 'A'}\n",
    "    return \"\".join(nn[n] for n in reversed(st))\n",
    "\n",
    "f = open(\"rosalind_ba6e.txt\", \"r\")\n",
    "ff=f.readlines()\n",
    "k_m=ff[0]\n",
    "p=int(n)\n",
    "DNA_1=ff[1]\n",
    "DNA_2=ff[2]\n",
    "k_mer=int(k_m)\n",
    "\n",
    "d={}\n",
    "dd={}\n",
    "\n",
    "for i in range(len(DNA_1)-k_mer):\n",
    "    l=[]\n",
    "    s=DNA_1[i:i+k_mer]\n",
    "    # print(s)\n",
    "    ss=DNA_2[i:i+k_mer]\n",
    "    r=rev_compl(s)\n",
    "    l.append(s)\n",
    "    l.append(r)\n",
    "    d[i]=l\n",
    "    dd[i]=ss\n",
    "\n",
    "for k,v in d.items():\n",
    "    for x,y in dd.items():\n",
    "        if(v[0]==y or v[1]==y):\n",
    "            m=\"({}, {})\"\n",
    "            print(m.format(k,x))"
   ]
  },
  {
   "cell_type": "code",
   "execution_count": null,
   "id": "993fb36e-63f4-44b2-9fa1-5ab87add1f88",
   "metadata": {},
   "outputs": [],
   "source": [
    "def rev_compl(st):\n",
    "    nn = {'A': 'T', 'C': 'G', 'G': 'C', 'T': 'A'}\n",
    "    return \"\".join(nn[n] for n in reversed(st))\n",
    "\n",
    "f = open(\"rosalind_ba6e.txt\", \"r\")\n",
    "ff=f.readlines()\n",
    "k_m=ff[0]\n",
    "p=int(n)\n",
    "DNA_1=ff[1]\n",
    "DNA_2=ff[2]\n",
    "k_mer=int(k_m)\n",
    "\n",
    "d={}\n",
    "dd={}\n",
    "\n",
    "for i in range(len(DNA_1)-k_mer):\n",
    "    l=[]\n",
    "    s=DNA_1[i:i+k_mer]\n",
    "    # print(s)\n",
    "    ss=DNA_2[i:i+k_mer]\n",
    "    r=rev_compl(s)\n",
    "    l.append(s)\n",
    "    l.append(r)\n",
    "    d[i]=l\n",
    "    dd[i]=ss\n",
    "\n",
    "for k,v in d.items():\n",
    "    for x,y in dd.items():\n",
    "        if(v[0]==y or v[1]==y):\n",
    "            m=\"({}, {})\"\n",
    "            print(m.format(k,x))"
   ]
  },
  {
   "cell_type": "code",
   "execution_count": 58,
   "id": "7d8c6bb3-fee5-4894-bfd6-9d3d6d93a0d3",
   "metadata": {},
   "outputs": [
    {
     "name": "stdout",
     "output_type": "stream",
     "text": [
      " 1 (0, 1, 2)\n",
      "-1 (0, 2, 1)\n",
      "-1 (1, 0, 2)\n",
      " 1 (1, 2, 0)\n",
      " 1 (2, 0, 1)\n",
      "-1 (2, 1, 0)\n"
     ]
    }
   ],
   "source": [
    "def perm_parity(lst):\n",
    "    '''\\\n",
    "    Given a permutation of the digits 0..N in order as a list, \n",
    "    returns its parity (or sign): +1 for even parity; -1 for odd.\n",
    "    '''\n",
    "    parity = 1\n",
    "    for i in range(0,len(lst)-1):\n",
    "        if lst[i] != i:\n",
    "            parity *= -1\n",
    "            mn = min(range(i,len(lst)), key=lst.__getitem__)\n",
    "            lst[i],lst[mn] = lst[mn],lst[i]\n",
    "    return parity    \n",
    "\n",
    "if __name__ == '__main__':\n",
    "    from itertools import permutations\n",
    "\n",
    "    for p in permutations(range(3)):\n",
    "        l = list(p)\n",
    "        print(\"%2i %r\" % (perm_parity(l), p))"
   ]
  },
  {
   "cell_type": "code",
   "execution_count": 60,
   "id": "373396c7-5c2f-4df2-9b3a-6b416888cc5e",
   "metadata": {},
   "outputs": [
    {
     "name": "stdout",
     "output_type": "stream",
     "text": [
      "4\n"
     ]
    }
   ],
   "source": [
    "# Python3 program to find\n",
    "# minimum number of prefix reversals\n",
    "# to sort permutation of [0] N numbers\n",
    "from queue import Queue\n",
    " \n",
    "# Function to return the minimum prefix reversals\n",
    "def minimumPrefixReversals( a,  n):\n",
    "    start = \"\"\n",
    "    destination = \"\"\n",
    "    for i in range(n):\n",
    "        # converts the number to a character\n",
    "        # and add  to\n",
    "        start += str(a[i])\n",
    "     \n",
    "    a.sort()\n",
    "    for i in range(n):\n",
    "        destination += str(a[i])\n",
    "     \n",
    " \n",
    "    # Queue to store the pairs\n",
    "    # of  and number of reversals\n",
    "    qu=Queue()\n",
    " \n",
    "    # Initially push the original\n",
    "    qu.put((start, 0))\n",
    " \n",
    "    # if original  is the destination\n",
    "    if (start == destination) :\n",
    "        return 0\n",
    " \n",
    "    # iterate till queue is empty\n",
    "    while qu.not_empty :\n",
    "        # pair at the top\n",
    "        p = qu.get()\n",
    " \n",
    "        #\n",
    "        t = p[0]\n",
    " \n",
    " \n",
    " \n",
    "        # perform prefix reversals for all index and push\n",
    "        # in the queue and check for the minimal\n",
    "        for j in range(2,n+1) :\n",
    "            r = t\n",
    " \n",
    "            # reverse the  till prefix j\n",
    "            tmpR=list(r)\n",
    "            tmpR[:j]=tmpR[j-1::-1]\n",
    "            r=''.join(tmpR)\n",
    " \n",
    "            # if after reversing the  from [0] i index\n",
    "            # it is the destination\n",
    "            if (r == destination) :\n",
    "                return p[1] + 1\n",
    "             \n",
    " \n",
    "            # push the number of reversals for  r\n",
    "            qu.put((r, p[1] + 1))\n",
    "         \n",
    "     \n",
    " \n",
    " \n",
    "# Driver Code\n",
    "if __name__ == '__main__':\n",
    " \n",
    "    a = [3, 4, 1, 5, 2]\n",
    "    # a = [ 1, 2, 4, 3]\n",
    "    n = len(a)\n",
    " \n",
    "    # Calling function\n",
    "    print(minimumPrefixReversals(a, n))"
   ]
  },
  {
   "cell_type": "code",
   "execution_count": null,
   "id": "2b013cd9-f155-4899-87a0-dc1de908bc07",
   "metadata": {},
   "outputs": [],
   "source": []
  }
 ],
 "metadata": {
  "kernelspec": {
   "display_name": "Deep_Py",
   "language": "python",
   "name": "ipy_deep"
  },
  "language_info": {
   "codemirror_mode": {
    "name": "ipython",
    "version": 3
   },
   "file_extension": ".py",
   "mimetype": "text/x-python",
   "name": "python",
   "nbconvert_exporter": "python",
   "pygments_lexer": "ipython3",
   "version": "3.9.7"
  }
 },
 "nbformat": 4,
 "nbformat_minor": 5
}
