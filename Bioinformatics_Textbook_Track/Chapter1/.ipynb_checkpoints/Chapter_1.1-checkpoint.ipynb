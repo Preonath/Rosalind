{
 "cells": [
  {
   "cell_type": "markdown",
   "id": "85eda517-cce3-4bf3-b7df-dcadd1113645",
   "metadata": {},
   "source": [
    "# Compute the Number of Times a Pattern Appears in a Text"
   ]
  },
  {
   "cell_type": "code",
   "execution_count": 37,
   "id": "ea3b00c4-939f-4daa-a2aa-39a5b43071e0",
   "metadata": {},
   "outputs": [
    {
     "name": "stdin",
     "output_type": "stream",
     "text": [
      " GCGCG\n",
      " GCG\n"
     ]
    },
    {
     "name": "stdout",
     "output_type": "stream",
     "text": [
      "2\n"
     ]
    }
   ],
   "source": [
    "text=input()\n",
    "pattern=input()\n",
    "pattern_len=len(pattern)\n",
    "count=0\n",
    "for i in range(len(text)):\n",
    "    sub_text=text[i:i+pattern_len]\n",
    "    if(sub_text==pattern):\n",
    "        count+=1\n",
    "print(count)"
   ]
  },
  {
   "cell_type": "markdown",
   "id": "7f358df3-2ef8-442c-a79c-1f9a23ccf09b",
   "metadata": {},
   "source": [
    "# Find the Most Frequent Words in a String"
   ]
  },
  {
   "cell_type": "code",
   "execution_count": 38,
   "id": "31f6ff3a-5ff3-4449-bfa8-0767a20b6d10",
   "metadata": {},
   "outputs": [
    {
     "name": "stdin",
     "output_type": "stream",
     "text": [
      "  ACGTTGCATGTCGCATGATGCATGAGAGCT\n",
      " 4\n"
     ]
    },
    {
     "name": "stdout",
     "output_type": "stream",
     "text": [
      "['GCAT', 'CATG']\n"
     ]
    }
   ],
   "source": [
    "DNA=input()\n",
    "k_mer=int(input())\n",
    "def Most_frequent(DNA,k_mer):\n",
    "    DNA_max = {}\n",
    "    for i in range(len(DNA)-k_mer+1):\n",
    "        sub_DNA= DNA[i:k_mer+i]\n",
    "        if sub_DNA not in DNA_max:\n",
    "            DNA_max[sub_DNA] = 1\n",
    "        else:\n",
    "            DNA_max[sub_DNA] +=1\n",
    "    highest = max(DNA_max.values())\n",
    "    return [k for k,v in DNA_max.items() if v == highest]\n",
    "print(Most_frequent(DNA,k_mer))"
   ]
  },
  {
   "cell_type": "code",
   "execution_count": 36,
   "id": "23f812f8-3f20-4338-a5d7-8fe55fa71bf9",
   "metadata": {},
   "outputs": [
    {
     "name": "stdin",
     "output_type": "stream",
     "text": [
      " ACGTTGCATGTCGCATGATGCATGAGAGCT\n",
      " 4\n"
     ]
    },
    {
     "name": "stdout",
     "output_type": "stream",
     "text": [
      "GCAT CATG\n"
     ]
    }
   ],
   "source": [
    "DNA=input()\n",
    "k_mer=int(input())\n",
    "\n",
    "def Most_frequent(DNA,k_mer):\n",
    "    maxconst = -1\n",
    "    max_mer = set()\n",
    "    DNA_max = {}\n",
    "    \n",
    "    for i in range(len(DNA)):\n",
    "        sub_DNA= DNA[i:k_mer+i]\n",
    "        \n",
    "        if sub_DNA not in DNA_max:\n",
    "            DNA_max[sub_DNA] = 1\n",
    "        else:\n",
    "            DNA_max[sub_DNA] +=1\n",
    "        \n",
    "        # set max \n",
    "        if DNA_max[sub_DNA] > maxconst:\n",
    "            maxconst = DNA_max[sub_DNA]\n",
    "            max_mer = set([sub_DNA])\n",
    "        elif DNA_max[sub_DNA] == maxconst:\n",
    "            max_mer.add(sub_DNA)\n",
    "\n",
    "    print(\" \".join(max_mer))\n",
    "Most_frequent(DNA,k_mer)"
   ]
  },
  {
   "cell_type": "markdown",
   "id": "f1fc55b3-e682-4a50-b86b-0fb7f9b8e16c",
   "metadata": {},
   "source": [
    "# Find the Reverse Complement of a String\n",
    "\n"
   ]
  },
  {
   "cell_type": "code",
   "execution_count": 35,
   "id": "9ac8adba-83ba-4582-8f2e-e901ff3b7426",
   "metadata": {},
   "outputs": [
    {
     "name": "stdin",
     "output_type": "stream",
     "text": [
      " AAAACCCGGT\n"
     ]
    },
    {
     "name": "stdout",
     "output_type": "stream",
     "text": [
      "ACCGGGTTTT\n"
     ]
    }
   ],
   "source": [
    "from Bio.Seq import Seq\n",
    "DNA_raw=input()\n",
    "DNA=Seq(DNA_raw.strip())\n",
    "print(DNA.reverse_complement())"
   ]
  },
  {
   "cell_type": "markdown",
   "id": "8afa268a-e368-4d14-91ac-4a0f22009045",
   "metadata": {},
   "source": [
    "# Find All Occurrences of a Pattern in a String"
   ]
  },
  {
   "cell_type": "code",
   "execution_count": 56,
   "id": "6dccd4c0-3416-4e4d-b99d-1bef15768548",
   "metadata": {},
   "outputs": [
    {
     "name": "stdin",
     "output_type": "stream",
     "text": [
      " ATAT\n",
      " GATATATGCATATACTT\n"
     ]
    },
    {
     "name": "stdout",
     "output_type": "stream",
     "text": [
      "139\n"
     ]
    }
   ],
   "source": [
    "k_mer=input()\n",
    "DNA=input()\n",
    "def Occurrences_of_Pattern(k_mer,DNA):\n",
    "    return \" \".join([str(i) for i in range(len(DNA)-len(k_mer)+1) if DNA[i:i+len(k_mer)]==k_mer])\n",
    "print(Occurrences_of_Pattern(k_mer,DNA))"
   ]
  },
  {
   "cell_type": "markdown",
   "id": "36c86a2b-bacc-4d7c-9ba9-4615771ab1de",
   "metadata": {},
   "source": [
    "# Find Patterns Forming Clumps in a String"
   ]
  },
  {
   "cell_type": "code",
   "execution_count": 67,
   "id": "d91708a7-354d-46fe-bbd4-e1a6c810bf1a",
   "metadata": {},
   "outputs": [
    {
     "name": "stdout",
     "output_type": "stream",
     "text": [
      "GAAGA CGACA AATGT\n"
     ]
    }
   ],
   "source": [
    "DNA=\"CGGACTCGACAGATGTGAAGAAATGTGAAGACTGAGTGAAGAGAAGAGGAAACACGACACGACATTGCGACATAATGTACGAATGTAATGTGCCTATGGC\"\n",
    "k,L,t=5,75,4\n",
    "# DNA=input()\n",
    "# L=int(input())\n",
    "# k= int(input())\n",
    "# t=int(input())\n",
    "def find_valid_patterns(sub_DNA, k, t):\n",
    "    pattern_max = {}\n",
    "    for j in range(len(sub_DNA)-k+1):\n",
    "        pattern=sub_DNA[j:j+k]\n",
    "        if pattern not in pattern_max:\n",
    "            pattern_max[pattern] = 1\n",
    "        else:\n",
    "            pattern_max[pattern] +=1\n",
    "    return [k for k,v in pattern_max.items() if v >= t]\n",
    "\n",
    "def Patterns_Forming_Clumps(DNA,L,k,t):\n",
    "    result = []\n",
    "    for i in range(len(DNA)-L+1):\n",
    "        sub_DNA=DNA[i:i+L]\n",
    "\n",
    "        valid_patterns = find_valid_patterns(sub_DNA, k, t)\n",
    "        result = result + valid_patterns\n",
    "    \n",
    "    return \" \".join(list(set(result)))\n",
    "\n",
    "print(Patterns_Forming_Clumps(DNA,L,k,t))\n",
    "        \n",
    "        "
   ]
  },
  {
   "cell_type": "code",
   "execution_count": null,
   "id": "ba59cdf9-4657-4206-ba3a-6c8c3dd8ed72",
   "metadata": {},
   "outputs": [],
   "source": []
  }
 ],
 "metadata": {
  "kernelspec": {
   "display_name": "Deep_Py",
   "language": "python",
   "name": "ipy_deep"
  },
  "language_info": {
   "codemirror_mode": {
    "name": "ipython",
    "version": 3
   },
   "file_extension": ".py",
   "mimetype": "text/x-python",
   "name": "python",
   "nbconvert_exporter": "python",
   "pygments_lexer": "ipython3",
   "version": "3.9.7"
  }
 },
 "nbformat": 4,
 "nbformat_minor": 5
}
