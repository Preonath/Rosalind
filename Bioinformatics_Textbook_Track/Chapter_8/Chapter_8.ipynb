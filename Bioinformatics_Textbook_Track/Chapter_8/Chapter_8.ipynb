{
 "cells": [
  {
   "cell_type": "code",
   "execution_count": 29,
   "id": "fe20da50-05f1-4002-bc0f-1ab4225a4ed7",
   "metadata": {},
   "outputs": [
    {
     "name": "stdout",
     "output_type": "stream",
     "text": [
      "[[0.0, 0.0], [5.0, 5.0], [0.0, 5.0]]\n"
     ]
    }
   ],
   "source": [
    "from math import sqrt\n",
    "\n",
    "def euclidean_distance(a, b):\n",
    "    \"\"\"Euclidean distance between a pair of n-dimensional points\"\"\"\n",
    "    return sqrt(sum((x - y) ** 2 for x, y in zip(a, b)))\n",
    "\n",
    "\n",
    "def ncd(x, centers):\n",
    "    \"\"\"Euclidean distance from DataPoint to its closest center\"\"\"\n",
    "    return min(euclidean_distance(x, c) for c in centers)\n",
    "\n",
    "\n",
    "def farthest_first_traversal(k,points):\n",
    "    centers = [points[0]]\n",
    "\n",
    "    while len(centers) < k:\n",
    "        dists = [(i, ncd(point, centers)) for i, point in enumerate(points)]\n",
    "        centers += [points[max(dists, key=lambda x: x[1])[0]]]\n",
    "    return centers\n",
    "\n",
    "\n",
    "\n",
    "\n",
    "if __name__=='__main__':\n",
    "    \n",
    "    points=[]\n",
    "\n",
    "    with open(r'rosalind_ba8a.txt') as f:\n",
    "        for line in f:\n",
    "            points.append([float(v) for v in line.strip().split()])\n",
    "    \n",
    "    k = int(points[0][0])\n",
    "    points = points[1:]\n",
    "    \n",
    "    centers = farthest_first_traversal(k,points)\n",
    "    print(centers)"
   ]
  },
  {
   "cell_type": "code",
   "execution_count": null,
   "id": "e55c01e3-9f38-4119-9ccd-5acec4bb3c6d",
   "metadata": {
    "tags": []
   },
   "outputs": [],
   "source": []
  },
  {
   "cell_type": "code",
   "execution_count": null,
   "id": "782fcfcb-3860-4cae-9d52-d8e17960edda",
   "metadata": {},
   "outputs": [],
   "source": []
  }
 ],
 "metadata": {
  "kernelspec": {
   "display_name": "Python 3 (ipykernel)",
   "language": "python",
   "name": "python3"
  },
  "language_info": {
   "codemirror_mode": {
    "name": "ipython",
    "version": 3
   },
   "file_extension": ".py",
   "mimetype": "text/x-python",
   "name": "python",
   "nbconvert_exporter": "python",
   "pygments_lexer": "ipython3",
   "version": "3.8.16"
  }
 },
 "nbformat": 4,
 "nbformat_minor": 5
}
