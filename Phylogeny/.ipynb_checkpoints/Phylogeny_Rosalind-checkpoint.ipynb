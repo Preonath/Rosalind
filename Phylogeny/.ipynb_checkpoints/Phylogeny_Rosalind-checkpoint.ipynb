{
 "cells": [
  {
   "cell_type": "markdown",
   "id": "0c4db1a5-6a9b-40eb-842e-e1cb1cfbc16f",
   "metadata": {},
   "source": [
    "# Completing a Tree #"
   ]
  },
  {
   "cell_type": "markdown",
   "id": "ff727446-3b7e-4207-9f00-86f3f4a19f8d",
   "metadata": {},
   "source": [
    "**Solution:**\n",
    "\n",
    "   - **output n-1-m, where m is number of edges in input**"
   ]
  },
  {
   "cell_type": "code",
   "execution_count": 7,
   "id": "08eec35b-c5eb-4bce-82f7-2fe3aff29fa9",
   "metadata": {},
   "outputs": [],
   "source": [
    "#splitlines will create line and keep in the list\n",
    "s = \"\"\"10\n",
    "1 2\n",
    "2 8\n",
    "4 10\n",
    "5 9\n",
    "6 10\n",
    "7 9\n",
    "\"\"\".splitlines()"
   ]
  },
  {
   "cell_type": "code",
   "execution_count": 9,
   "id": "b1f3f020-e435-47d7-b9ae-df03e3859643",
   "metadata": {},
   "outputs": [
    {
     "name": "stdout",
     "output_type": "stream",
     "text": [
      "10\n",
      "['1 2', '2 8', '4 10', '5 9', '6 10', '7 9']\n"
     ]
    }
   ],
   "source": [
    "print(s[0])\n",
    "print(s[1:])"
   ]
  },
  {
   "cell_type": "code",
   "execution_count": 13,
   "id": "728d9db3-61f8-4a5d-a162-885cd9ebdc4e",
   "metadata": {},
   "outputs": [
    {
     "name": "stdout",
     "output_type": "stream",
     "text": [
      "3\n"
     ]
    }
   ],
   "source": [
    "print(int(s[0])-len(s[1:])-1)"
   ]
  },
  {
   "cell_type": "markdown",
   "id": "935c2fdf-885c-4214-9b4f-43e69298fd78",
   "metadata": {},
   "source": [
    "# Counting Phylogenetic Ancestors # "
   ]
  },
  {
   "cell_type": "code",
   "execution_count": 14,
   "id": "78761b85-bafe-4655-a8a6-7048dd49632d",
   "metadata": {},
   "outputs": [
    {
     "name": "stdin",
     "output_type": "stream",
     "text": [
      "Enter leaf number: 4\n"
     ]
    },
    {
     "name": "stdout",
     "output_type": "stream",
     "text": [
      "2\n"
     ]
    }
   ],
   "source": [
    "def nodes(x):\n",
    "    if x==2: return 0\n",
    "    else: return x//2+nodes(x//2+x%2)\n",
    "\n",
    "n=int(input('Enter leaf number:'))\n",
    "print(nodes(n))"
   ]
  },
  {
   "cell_type": "markdown",
   "id": "360aada1-fff4-41db-b510-3779cf9dd517",
   "metadata": {},
   "source": [
    "# Creating a Distance Matrix #"
   ]
  },
  {
   "cell_type": "code",
   "execution_count": 34,
   "id": "01d39ac3-128f-422e-8a55-54ac26c093a5",
   "metadata": {},
   "outputs": [
    {
     "name": "stdin",
     "output_type": "stream",
     "text": [
      " TTTCCATTTA\n",
      " GATTCATTTC\n"
     ]
    },
    {
     "name": "stdout",
     "output_type": "stream",
     "text": [
      "0.4\n"
     ]
    }
   ],
   "source": [
    "# Hamming Distance\n",
    "def pDistance(s1, s2):\n",
    "    total=len(s1)\n",
    "    count=0\n",
    "    for i,j in zip(s1,s2):\n",
    "        if i!=j:\n",
    "            count+=1\n",
    "    return float(count/total)\n",
    "# s1=str(input())        \n",
    "# s2=str(input())\n",
    "# print(pDistance(s1,s2))"
   ]
  },
  {
   "cell_type": "code",
   "execution_count": 41,
   "id": "385c54e9-44dd-40be-a360-4f1e682805e3",
   "metadata": {},
   "outputs": [
    {
     "name": "stdout",
     "output_type": "stream",
     "text": [
      "0.00000 0.47350 0.29211 0.57244 0.31213 0.28504 0.48292 0.45819 0.55477\n",
      "\n",
      "0.47350 0.00000 0.53121 0.64782 0.58186 0.32862 0.50530 0.61720 0.64900\n",
      "\n",
      "0.29211 0.53121 0.00000 0.48057 0.46054 0.42992 0.55713 0.30389 0.47939\n",
      "\n",
      "0.57244 0.64782 0.48057 0.00000 0.61602 0.61013 0.64075 0.30153 0.44876\n",
      "\n",
      "0.31213 0.58186 0.46054 0.61602 0.00000 0.48410 0.60895 0.54653 0.59953\n",
      "\n",
      "0.28504 0.32862 0.42992 0.61013 0.48410 0.00000 0.32862 0.54417 0.59953\n",
      "\n",
      "0.48292 0.50530 0.55713 0.64075 0.60895 0.32862 0.00000 0.61013 0.65842\n",
      "\n",
      "0.45819 0.61720 0.30389 0.30153 0.54653 0.54417 0.61013 0.00000 0.30271\n",
      "\n",
      "0.55477 0.64900 0.47939 0.44876 0.59953 0.59953 0.65842 0.30271 0.00000\n",
      "\n"
     ]
    }
   ],
   "source": [
    "from Bio import SeqIO\n",
    "import numpy as np\n",
    "\n",
    "f = open(\"rosalind_pdst.txt\", 'r')\n",
    "taxa = []\n",
    "for i in SeqIO.parse(f, \"fasta\"):\n",
    "    taxa.append(str(i.seq))\n",
    "# print(taxa)\n",
    "\n",
    "# Create empty array\n",
    "distMat = np.zeros((len(taxa), len(taxa)), dtype=np.float)\n",
    "\n",
    "# Fill array with all comparisons.\n",
    "for i in range(len(taxa)):\n",
    "    for j in range(len(taxa)):\n",
    "        distMat[i,j]=float(pDistance(taxa[i],taxa[j]))\n",
    "# print(distMat)\n",
    "\n",
    "#Create a output file\n",
    "output_handle = 'PDST.txt'\n",
    "# Save and Note fmt to specify 5 decimal places in output\n",
    "np.savetxt(output_handle, distMat, delimiter=\" \", fmt='%.5f')\n",
    "\n",
    "#print the output file\n",
    "f_output = open(\"PDST.txt\", 'r')\n",
    "for i in f_output:\n",
    "    print(i)"
   ]
  },
  {
   "cell_type": "markdown",
   "id": "5efaa689-5938-4e3e-b4c9-c22a5eda1de7",
   "metadata": {},
   "source": [
    "# Distances in Trees #"
   ]
  },
  {
   "cell_type": "markdown",
   "id": "d1e6c043-43f7-4559-a3d1-6402bf951866",
   "metadata": {},
   "source": [
    "- *** get_path(self, target=None, **kwargs) ***\n",
    "\n",
    "   - List the clades directly between this root and the given target.\n",
    "\n",
    "    - **Returns:**\n",
    "    - list of all clade objects along this path, ending with the given target, but excluding the root clade."
   ]
  },
  {
   "cell_type": "markdown",
   "id": "dbe86031-8446-4dee-9ca0-e9e67e86fb48",
   "metadata": {},
   "source": [
    "- *** common_ancestor(self, targets, *more_targets) ***\n",
    "\n",
    "\n",
    "   - Most recent common ancestor (clade) of all the given targets.\n",
    "\n",
    "   - **Edge cases:**\n",
    "\n",
    "\n",
    "     - If no target is given, returns self.root\n",
    "\n",
    "     - If 1 target is given, returns the target\n",
    "\n",
    "     - If any target is not found in this tree, raises a ValueError"
   ]
  },
  {
   "cell_type": "code",
   "execution_count": 72,
   "id": "8e853887-e71c-479e-8028-291b159ba585",
   "metadata": {
    "tags": []
   },
   "outputs": [
    {
     "name": "stdout",
     "output_type": "stream",
     "text": [
      "Full Tree:  Tree(rooted=False, weight=1.0)\n",
      "    Clade()\n",
      "        Clade(name='dog')\n",
      "        Clade(name='cat')\n",
      "Show the Ancestor of X and Y: Clade\n",
      "Path of x at tree: [Clade(name='dog')]\n",
      "Path of y at tree: [Clade(name='cat')]\n",
      "Path length  of x at tree: 1\n",
      "Path length  of y at tree: 1\n",
      "The Result of my programm\n",
      "2\n"
     ]
    }
   ],
   "source": [
    "from Bio import Phylo\n",
    "from io import StringIO\n",
    "\n",
    "c = open('rosalind_nwck.txt').read().split('\\n\\n')\n",
    "\n",
    "out = []\n",
    "for i in c:\n",
    "    t, x, y = i.split()\n",
    "    tree = Phylo.read(StringIO(t), 'newick')\n",
    "    print(\"Full Tree: \", tree)\n",
    "    ancestor = tree.common_ancestor(x, y)\n",
    "    print(\"Show the Ancestor of X and Y:\",ancestor)\n",
    "    \n",
    "    print(\"Path of x at tree:\",ancestor.get_path(x))\n",
    "    print(\"Path of y at tree:\",ancestor.get_path(y))\n",
    "    \n",
    "    print(\"Path length  of x at tree:\",len(ancestor.get_path(x)))\n",
    "    print(\"Path length  of y at tree:\",len(ancestor.get_path(y)))\n",
    "    \n",
    "    #\"Store all ancestor length:\"\n",
    "    out.append(len(ancestor.get_path(x)) + len(ancestor.get_path(y))) \n",
    "print(\"The Result of my programm\")\n",
    "print(' '.join(str(x) for x in out))"
   ]
  },
  {
   "cell_type": "markdown",
   "id": "92eac571-b2e8-464e-9e9f-ea47825714e5",
   "metadata": {},
   "source": [
    "# Newick Format with Edge Weights #"
   ]
  },
  {
   "cell_type": "markdown",
   "id": "7088d1cb-bb69-4533-a169-f7b1837d5d27",
   "metadata": {},
   "source": [
    "**distance(self, target1, target2=None)**\n",
    "\n",
    "\n",
    "- Calculate the sum of the branch lengths between two targets.\n",
    "\n",
    "- If only one target is specified, the other is the root of this tree."
   ]
  },
  {
   "cell_type": "code",
   "execution_count": 97,
   "id": "75b73e04-55fb-4fed-9537-f1527e34251e",
   "metadata": {},
   "outputs": [
    {
     "name": "stdout",
     "output_type": "stream",
     "text": [
      "Full Tree:  Tree(rooted=False, weight=1.0)\n",
      "    Clade()\n",
      "        Clade(branch_length=42.0, name='dog')\n",
      "        Clade(branch_length=33.0, name='cat')\n",
      "Show the Ancestor of X and Y: Clade\n",
      "Path of x at tree: [Clade(branch_length=33.0, name='cat')]\n",
      "Path of y at tree: [Clade(branch_length=42.0, name='dog')]\n",
      "Path length  of x at tree: 1\n",
      "Path length  of y at tree: 1\n",
      "Full Tree:  Tree(rooted=False, weight=1.0)\n",
      "    Clade()\n",
      "        Clade(branch_length=74.0)\n",
      "            Clade(branch_length=4.0, name='dog')\n",
      "            Clade(branch_length=3.0, name='cat')\n",
      "        Clade(branch_length=98.0, name='robot')\n",
      "        Clade(branch_length=58.0, name='elephant')\n",
      "Show the Ancestor of X and Y: Clade\n",
      "Path of x at tree: [Clade(branch_length=74.0), Clade(branch_length=4.0, name='dog')]\n",
      "Path of y at tree: [Clade(branch_length=58.0, name='elephant')]\n",
      "Path length  of x at tree: 2\n",
      "Path length  of y at tree: 1\n",
      "Distance between Specific X and Y:  \n",
      "\n",
      "75 136\n"
     ]
    }
   ],
   "source": [
    "from Bio import Phylo\n",
    "from io import StringIO\n",
    "\n",
    "c = open('rosalind_nkew.txt').read().split('\\n\\n')\n",
    "dis=[]\n",
    "out = []\n",
    "for i in c:\n",
    "    t, x, y = i.split()\n",
    "    tree = Phylo.read(StringIO(t), 'newick')\n",
    "    print(\"Full Tree: \", tree)\n",
    "    ancestor = tree.common_ancestor(x, y)\n",
    "    print(\"Show the Ancestor of X and Y:\",ancestor)\n",
    "    \n",
    "    print(\"Path of x at tree:\",ancestor.get_path(x))\n",
    "    print(\"Path of y at tree:\",ancestor.get_path(y))\n",
    "    \n",
    "    print(\"Path length  of x at tree:\",len(ancestor.get_path(x)))\n",
    "    print(\"Path length  of y at tree:\",len(ancestor.get_path(y)))\n",
    "    \n",
    "    #\"Store all ancestor length:\"\n",
    "    out.append(len(ancestor.get_path(x)) + len(ancestor.get_path(y))) \n",
    "  \n",
    "    dis.append(round(tree.distance(x,y)))\n",
    "  \n",
    "print(\"Distance between Specific X and Y: \",\"\\n\")\n",
    "print(' '.join(str(x) for x in dis))\n",
    "    "
   ]
  },
  {
   "cell_type": "markdown",
   "id": "b113d791-4124-4dad-a1e6-2c2c110f836f",
   "metadata": {},
   "source": [
    "# Creating a Character Table # "
   ]
  },
  {
   "cell_type": "code",
   "execution_count": 98,
   "id": "a08dd960-fb6b-4529-a097-90860e827688",
   "metadata": {},
   "outputs": [],
   "source": [
    "data = []\n",
    "f=open('rosalind_cstr.txt', 'r')\n",
    "for line in f:\n",
    "    data.append(line.strip())\n",
    "\n",
    "base = data[0]\n",
    "for i in range(len(base)):\n",
    "    cnt_0 = 0\n",
    "    cnt_1 = 0\n",
    "    row = ''\n",
    "    for seq in data:\n",
    "        if base[i] == seq[i]:\n",
    "            row += '1'\n",
    "            cnt_1 += 1\n",
    "        else:\n",
    "            row += '0'\n",
    "            cnt_0 += 1\n",
    "    if cnt_1>1 and cnt_0>1:\n",
    "        print(row)"
   ]
  },
  {
   "cell_type": "code",
   "execution_count": null,
   "id": "a66ad3e3-d89f-482a-871c-a2f319c9a362",
   "metadata": {},
   "outputs": [],
   "source": []
  }
 ],
 "metadata": {
  "kernelspec": {
   "display_name": "Deep_Py",
   "language": "python",
   "name": "ipy_deep"
  },
  "language_info": {
   "codemirror_mode": {
    "name": "ipython",
    "version": 3
   },
   "file_extension": ".py",
   "mimetype": "text/x-python",
   "name": "python",
   "nbconvert_exporter": "python",
   "pygments_lexer": "ipython3",
   "version": "3.9.7"
  }
 },
 "nbformat": 4,
 "nbformat_minor": 5
}
